{
 "cells": [
  {
   "cell_type": "code",
   "execution_count": 1,
   "metadata": {
    "collapsed": false
   },
   "outputs": [
    {
     "data": {
      "application/javascript": [
       "if(window['d3'] === undefined ||\n",
       "   window['Nyaplot'] === undefined){\n",
       "    var path = {\"d3\":\"https://cdnjs.cloudflare.com/ajax/libs/d3/3.5.5/d3.min\",\"downloadable\":\"https://cdn.rawgit.com/domitry/d3-downloadable/master/d3-downloadable\"};\n",
       "\n",
       "\n",
       "\n",
       "    var shim = {\"d3\":{\"exports\":\"d3\"},\"downloadable\":{\"exports\":\"downloadable\"}};\n",
       "\n",
       "    require.config({paths: path, shim:shim});\n",
       "\n",
       "\n",
       "require(['d3'], function(d3){window['d3']=d3;console.log('finished loading d3');require(['downloadable'], function(downloadable){window['downloadable']=downloadable;console.log('finished loading downloadable');\n",
       "\n",
       "\tvar script = d3.select(\"head\")\n",
       "\t    .append(\"script\")\n",
       "\t    .attr(\"src\", \"https://cdn.rawgit.com/domitry/Nyaplotjs/master/release/nyaplot.js\")\n",
       "\t    .attr(\"async\", true);\n",
       "\n",
       "\tscript[0][0].onload = script[0][0].onreadystatechange = function(){\n",
       "\n",
       "\n",
       "\t    var event = document.createEvent(\"HTMLEvents\");\n",
       "\t    event.initEvent(\"load_nyaplot\",false,false);\n",
       "\t    window.dispatchEvent(event);\n",
       "\t    console.log('Finished loading Nyaplotjs');\n",
       "\n",
       "\t};\n",
       "\n",
       "\n",
       "});});\n",
       "}\n"
      ],
      "text/plain": [
       "\"if(window['d3'] === undefined ||\\n   window['Nyaplot'] === undefined){\\n    var path = {\\\"d3\\\":\\\"https://cdnjs.cloudflare.com/ajax/libs/d3/3.5.5/d3.min\\\",\\\"downloadable\\\":\\\"https://cdn.rawgit.com/domitry/d3-downloadable/master/d3-downloadable\\\"};\\n\\n\\n\\n    var shim = {\\\"d3\\\":{\\\"exports\\\":\\\"d3\\\"},\\\"downloadable\\\":{\\\"exports\\\":\\\"downloadable\\\"}};\\n\\n    require.config({paths: path, shim:shim});\\n\\n\\nrequire(['d3'], function(d3){window['d3']=d3;console.log('finished loading d3');require(['downloadable'], function(downloadable){window['downloadable']=downloadable;console.log('finished loading downloadable');\\n\\n\\tvar script = d3.select(\\\"head\\\")\\n\\t    .append(\\\"script\\\")\\n\\t    .attr(\\\"src\\\", \\\"https://cdn.rawgit.com/domitry/Nyaplotjs/master/release/nyaplot.js\\\")\\n\\t    .attr(\\\"async\\\", true);\\n\\n\\tscript[0][0].onload = script[0][0].onreadystatechange = function(){\\n\\n\\n\\t    var event = document.createEvent(\\\"HTMLEvents\\\");\\n\\t    event.initEvent(\\\"load_nyaplot\\\",false,false);\\n\\t    window.dispatchEvent(event);\\n\\t    console.log('Finished loading Nyaplotjs');\\n\\n\\t};\\n\\n\\n});});\\n}\\n\""
      ]
     },
     "metadata": {},
     "output_type": "display_data"
    },
    {
     "data": {
      "text/plain": [
       "true"
      ]
     },
     "execution_count": 1,
     "metadata": {},
     "output_type": "execute_result"
    }
   ],
   "source": [
    "require '~/workspace/daru/lib/daru.rb'"
   ]
  },
  {
   "cell_type": "markdown",
   "metadata": {},
   "source": [
    "## Categorical Vector Visualization"
   ]
  },
  {
   "cell_type": "code",
   "execution_count": 2,
   "metadata": {
    "collapsed": false
   },
   "outputs": [
    {
     "data": {
      "text/plain": [
       "[\"/home/ubuntu/workspace/daru/lib/daru/vector.rb\", 502]"
      ]
     },
     "execution_count": 2,
     "metadata": {},
     "output_type": "execute_result"
    }
   ],
   "source": [
    "dv = Daru::Vector.new ['III']*10 + ['II']*5 + ['I']*5, type: :category, categories: ['I', 'II', 'III']\n",
    "dv.type\n",
    "dv.method(:type).source_location"
   ]
  },
  {
   "cell_type": "code",
   "execution_count": 3,
   "metadata": {
    "collapsed": false
   },
   "outputs": [
    {
     "data": {
      "text/html": [
       "<div id='vis-d98fa3f4-dc8c-4342-ae01-4f820913e1ac'></div>\n",
       "<script>\n",
       "(function(){\n",
       "    var render = function(){\n",
       "        var model = {\"panes\":[{\"diagrams\":[{\"type\":\"bar\",\"options\":{\"x\":\"data0\",\"y\":\"data1\"},\"data\":\"2dc7301b-fd90-49a9-8c82-1ce95e599ce8\"}],\"options\":{\"x_label\":\"Categories\",\"y_label\":\"Frequency\",\"yrange\":[0,20],\"width\":700,\"xrange\":[\"I\",\"II\",\"III\"]}}],\"data\":{\"2dc7301b-fd90-49a9-8c82-1ce95e599ce8\":[{\"data0\":\"I\",\"data1\":5},{\"data0\":\"II\",\"data1\":5},{\"data0\":\"III\",\"data1\":10}]},\"extension\":[]}\n",
       "        var id_name = '#vis-d98fa3f4-dc8c-4342-ae01-4f820913e1ac';\n",
       "        Nyaplot.core.parse(model, id_name);\n",
       "\n",
       "        require(['downloadable'], function(downloadable){\n",
       "          var svg = d3.select(id_name).select(\"svg\");\n",
       "\t  if(!svg.empty())\n",
       "\t    svg.call(downloadable().filename('fig'));\n",
       "\t});\n",
       "    };\n",
       "    if(window['Nyaplot']==undefined){\n",
       "        window.addEventListener('load_nyaplot', render, false);\n",
       "\treturn;\n",
       "    } else {\n",
       "       render();\n",
       "    }\n",
       "})();\n",
       "</script>\n"
      ],
      "text/plain": [
       "#<Nyaplot::Frame:0x00000002008f78 @properties={:panes=>[#<Nyaplot::Plot:0x0000000200b430 @properties={:diagrams=>[#<Nyaplot::Diagram:0x00000002009b08 @properties={:type=>:bar, :options=>{:x=>\"data0\", :y=>\"data1\"}, :data=>\"2dc7301b-fd90-49a9-8c82-1ce95e599ce8\"}, @xrange=[\"I\", \"II\", \"III\"], @yrange=[0, 10]>], :options=>{:x_label=>\"Categories\", :y_label=>\"Frequency\", :yrange=>[0, 20], :width=>700, :xrange=>[\"I\", \"II\", \"III\"]}}>], :data=>{\"2dc7301b-fd90-49a9-8c82-1ce95e599ce8\"=>#<Nyaplot::DataFrame:0x0000000200a580 @name=\"2dc7301b-fd90-49a9-8c82-1ce95e599ce8\", @rows=[{:data0=>\"I\", :data1=>5}, {:data0=>\"II\", :data1=>5}, {:data0=>\"III\", :data1=>10}]>}, :extension=>[]}>"
      ]
     },
     "metadata": {},
     "output_type": "display_data"
    }
   ],
   "source": [
    "dv.plot do |p, d|\n",
    "  p.x_label 'Categories'\n",
    "  p.y_label 'Frequency'\n",
    "  p.yrange [0, 20]\n",
    "end"
   ]
  },
  {
   "cell_type": "markdown",
   "metadata": {},
   "source": [
    "## Dataframe with categorical data visualization"
   ]
  },
  {
   "cell_type": "markdown",
   "metadata": {},
   "source": [
    "### Scatter plot categorized by categorical variable"
   ]
  },
  {
   "cell_type": "code",
   "execution_count": 5,
   "metadata": {
    "collapsed": false
   },
   "outputs": [
    {
     "data": {
      "text/plain": [
       ":category"
      ]
     },
     "execution_count": 5,
     "metadata": {},
     "output_type": "execute_result"
    }
   ],
   "source": [
    "df = Daru::DataFrame.new({\n",
    "  a: [1, 2, 4, -2, 5, 23, 0],\n",
    "  b: [3, 1, 3, -6, 2, 1, 0],\n",
    "  c: ['I', 'II', 'I', 'III', 'I', 'III', 'II']\n",
    "  })\n",
    "df.to_category :c\n",
    "df[:c].type"
   ]
  },
  {
   "cell_type": "code",
   "execution_count": 9,
   "metadata": {
    "collapsed": false,
    "scrolled": true
   },
   "outputs": [
    {
     "data": {
      "text/html": [
       "<div id='vis-69a415cc-11dd-47f8-b716-75c84b08b6e2'></div>\n",
       "<script>\n",
       "(function(){\n",
       "    var render = function(){\n",
       "        var model = {\"panes\":[{\"diagrams\":[{\"type\":\"scatter\",\"options\":{\"x\":\"a\",\"y\":\"b\",\"title\":\"I\",\"color\":\"rgb(141,211,199)\"},\"data\":\"5be19c6c-4a34-4858-974a-915d31a580bc\"},{\"type\":\"scatter\",\"options\":{\"x\":\"a\",\"y\":\"b\",\"title\":\"II\",\"color\":\"rgb(255,255,179)\"},\"data\":\"3e5e0052-ac75-4c2c-b2ac-919a860829ca\"},{\"type\":\"scatter\",\"options\":{\"x\":\"a\",\"y\":\"b\",\"title\":\"III\",\"color\":\"rgb(190,186,218)\"},\"data\":\"90a44a02-07d6-4817-b3d9-63676a12b274\"}],\"options\":{\"legend\":true,\"xrange\":[-10,10],\"yrange\":[-10,10],\"zoom\":true,\"width\":800}}],\"data\":{\"5be19c6c-4a34-4858-974a-915d31a580bc\":[{\"a\":1,\"b\":3},{\"a\":4,\"b\":3},{\"a\":5,\"b\":2}],\"3e5e0052-ac75-4c2c-b2ac-919a860829ca\":[{\"a\":2,\"b\":1},{\"a\":0,\"b\":0}],\"90a44a02-07d6-4817-b3d9-63676a12b274\":[{\"a\":-2,\"b\":-6},{\"a\":23,\"b\":1}]},\"extension\":[]}\n",
       "        var id_name = '#vis-69a415cc-11dd-47f8-b716-75c84b08b6e2';\n",
       "        Nyaplot.core.parse(model, id_name);\n",
       "\n",
       "        require(['downloadable'], function(downloadable){\n",
       "          var svg = d3.select(id_name).select(\"svg\");\n",
       "\t  if(!svg.empty())\n",
       "\t    svg.call(downloadable().filename('fig'));\n",
       "\t});\n",
       "    };\n",
       "    if(window['Nyaplot']==undefined){\n",
       "        window.addEventListener('load_nyaplot', render, false);\n",
       "\treturn;\n",
       "    } else {\n",
       "       render();\n",
       "    }\n",
       "})();\n",
       "</script>\n"
      ],
      "text/plain": [
       "#<Nyaplot::Frame:0x000000031218c8 @properties={:panes=>[#<Nyaplot::Plot:0x00000004170d50 @properties={:diagrams=>[#<Nyaplot::Diagram:0x0000000417c948 @properties={:type=>:scatter, :options=>{:x=>:a, :y=>:b, :title=>\"I\", :color=>\"rgb(141,211,199)\"}, :data=>\"5be19c6c-4a34-4858-974a-915d31a580bc\"}, @xrange=[1, 5], @yrange=[2, 3]>, #<Nyaplot::Diagram:0x00000004180c78 @properties={:type=>:scatter, :options=>{:x=>:a, :y=>:b, :title=>\"II\", :color=>\"rgb(255,255,179)\"}, :data=>\"3e5e0052-ac75-4c2c-b2ac-919a860829ca\"}, @xrange=[0, 2], @yrange=[0, 1]>, #<Nyaplot::Diagram:0x00000004188f40 @properties={:type=>:scatter, :options=>{:x=>:a, :y=>:b, :title=>\"III\", :color=>\"rgb(190,186,218)\"}, :data=>\"90a44a02-07d6-4817-b3d9-63676a12b274\"}, @xrange=[-2, 23], @yrange=[-6, 1]>], :options=>{:legend=>true, :xrange=>[-10, 10], :yrange=>[-10, 10], :zoom=>true, :width=>800}}>], :data=>{\"5be19c6c-4a34-4858-974a-915d31a580bc\"=>#<Nyaplot::DataFrame:0x0000000417cd58 @name=\"5be19c6c-4a34-4858-974a-915d31a580bc\", @rows=[{:a=>1, :b=>3}, {:a=>4, :b=>3}, {:a=>5, :b=>2}]>, \"3e5e0052-ac75-4c2c-b2ac-919a860829ca\"=>#<Nyaplot::DataFrame:0x00000004181010 @name=\"3e5e0052-ac75-4c2c-b2ac-919a860829ca\", @rows=[{:a=>2, :b=>1}, {:a=>0, :b=>0}]>, \"90a44a02-07d6-4817-b3d9-63676a12b274\"=>#<Nyaplot::DataFrame:0x000000041892d8 @name=\"90a44a02-07d6-4817-b3d9-63676a12b274\", @rows=[{:a=>-2, :b=>-6}, {:a=>23, :b=>1}]>}, :extension=>[]}>"
      ]
     },
     "metadata": {},
     "output_type": "display_data"
    }
   ],
   "source": [
    "df.plot(type: :scatter, x: :a, y: :b, categorized: {by: :c, method: :color}) do |p, d1, d2|\n",
    "  p.xrange [-10, 10]\n",
    "  p.yrange [-10, 10]\n",
    "end"
   ]
  },
  {
   "cell_type": "markdown",
   "metadata": {},
   "source": [
    "### Line plot categorized by categorical variable"
   ]
  },
  {
   "cell_type": "code",
   "execution_count": 13,
   "metadata": {
    "collapsed": false
   },
   "outputs": [
    {
     "data": {
      "text/html": [
       "<table>\n",
       "  <tr>\n",
       "    <th colspan='4'>Daru::DataFrame(9x3)</th>\n",
       "  </tr>\n",
       "\n",
       "  \n",
       "    <tr>\n",
       "      <th></th>\n",
       "      \n",
       "        <th>a</th>\n",
       "      \n",
       "        <th>b</th>\n",
       "      \n",
       "        <th>c</th>\n",
       "      \n",
       "    </tr>\n",
       "  \n",
       "\n",
       "  \n",
       "    <tr>\n",
       "      <td>0</td>\n",
       "      \n",
       "        <td>1</td>\n",
       "      \n",
       "        <td>2</td>\n",
       "      \n",
       "        <td>I</td>\n",
       "      \n",
       "    </tr>\n",
       "  \n",
       "    <tr>\n",
       "      <td>1</td>\n",
       "      \n",
       "        <td>2</td>\n",
       "      \n",
       "        <td>4</td>\n",
       "      \n",
       "        <td>I</td>\n",
       "      \n",
       "    </tr>\n",
       "  \n",
       "    <tr>\n",
       "      <td>2</td>\n",
       "      \n",
       "        <td>3</td>\n",
       "      \n",
       "        <td>6</td>\n",
       "      \n",
       "        <td>I</td>\n",
       "      \n",
       "    </tr>\n",
       "  \n",
       "    <tr>\n",
       "      <td>3</td>\n",
       "      \n",
       "        <td>4</td>\n",
       "      \n",
       "        <td>1</td>\n",
       "      \n",
       "        <td>II</td>\n",
       "      \n",
       "    </tr>\n",
       "  \n",
       "    <tr>\n",
       "      <td>4</td>\n",
       "      \n",
       "        <td>5</td>\n",
       "      \n",
       "        <td>3</td>\n",
       "      \n",
       "        <td>II</td>\n",
       "      \n",
       "    </tr>\n",
       "  \n",
       "    <tr>\n",
       "      <td>5</td>\n",
       "      \n",
       "        <td>6</td>\n",
       "      \n",
       "        <td>5</td>\n",
       "      \n",
       "        <td>II</td>\n",
       "      \n",
       "    </tr>\n",
       "  \n",
       "    <tr>\n",
       "      <td>6</td>\n",
       "      \n",
       "        <td>7</td>\n",
       "      \n",
       "        <td>6</td>\n",
       "      \n",
       "        <td>III</td>\n",
       "      \n",
       "    </tr>\n",
       "  \n",
       "    <tr>\n",
       "      <td>7</td>\n",
       "      \n",
       "        <td>8</td>\n",
       "      \n",
       "        <td>4</td>\n",
       "      \n",
       "        <td>III</td>\n",
       "      \n",
       "    </tr>\n",
       "  \n",
       "    <tr>\n",
       "      <td>8</td>\n",
       "      \n",
       "        <td>9</td>\n",
       "      \n",
       "        <td>3</td>\n",
       "      \n",
       "        <td>III</td>\n",
       "      \n",
       "    </tr>\n",
       "  \n",
       "\n",
       "  \n",
       "</table>"
      ],
      "text/plain": [
       "#<Daru::DataFrame(9x3)>\n",
       "       a   b   c\n",
       "   0   1   2   I\n",
       "   1   2   4   I\n",
       "   2   3   6   I\n",
       "   3   4   1  II\n",
       "   4   5   3  II\n",
       "   5   6   5  II\n",
       "   6   7   6 III\n",
       "   7   8   4 III\n",
       "   8   9   3 III"
      ]
     },
     "execution_count": 13,
     "metadata": {},
     "output_type": "execute_result"
    }
   ],
   "source": [
    "df = Daru::DataFrame.new({\n",
    "  a: [1, 2, 3, 4, 5, 6, 7, 8, 9],\n",
    "  b: [2, 4, 6, 1, 3, 5, 6, 4, 3],\n",
    "  c: ['I']*3 + ['II']*3 + ['III']*3\n",
    "  })\n",
    "df.to_category :c\n",
    "df"
   ]
  },
  {
   "cell_type": "code",
   "execution_count": 16,
   "metadata": {
    "collapsed": false
   },
   "outputs": [
    {
     "data": {
      "text/html": [
       "<div id='vis-ac017636-c1e5-4913-aa98-fc61a1752b93'></div>\n",
       "<script>\n",
       "(function(){\n",
       "    var render = function(){\n",
       "        var model = {\"panes\":[{\"diagrams\":[{\"type\":\"line\",\"options\":{\"x\":\"a\",\"y\":\"b\",\"title\":\"I\",\"color\":\"rgb(102,194,165)\"},\"data\":\"5499121e-ed4c-4b1f-a63a-1566b3588d84\"},{\"type\":\"line\",\"options\":{\"x\":\"a\",\"y\":\"b\",\"title\":\"II\",\"color\":\"rgb(252,141,98)\"},\"data\":\"5582cf4e-afbe-4196-9ff1-9fb7bf3c605c\"},{\"type\":\"line\",\"options\":{\"x\":\"a\",\"y\":\"b\",\"title\":\"III\",\"color\":\"rgb(141,160,203)\"},\"data\":\"6a71189e-b73d-45c3-9ba0-829fd2dd2250\"}],\"options\":{\"legend\":true,\"xrange\":[0,10],\"yrange\":[0,8],\"zoom\":true,\"width\":800}}],\"data\":{\"5499121e-ed4c-4b1f-a63a-1566b3588d84\":[{\"a\":1,\"b\":2},{\"a\":2,\"b\":4},{\"a\":3,\"b\":6}],\"5582cf4e-afbe-4196-9ff1-9fb7bf3c605c\":[{\"a\":4,\"b\":1},{\"a\":5,\"b\":3},{\"a\":6,\"b\":5}],\"6a71189e-b73d-45c3-9ba0-829fd2dd2250\":[{\"a\":7,\"b\":6},{\"a\":8,\"b\":4},{\"a\":9,\"b\":3}]},\"extension\":[]}\n",
       "        var id_name = '#vis-ac017636-c1e5-4913-aa98-fc61a1752b93';\n",
       "        Nyaplot.core.parse(model, id_name);\n",
       "\n",
       "        require(['downloadable'], function(downloadable){\n",
       "          var svg = d3.select(id_name).select(\"svg\");\n",
       "\t  if(!svg.empty())\n",
       "\t    svg.call(downloadable().filename('fig'));\n",
       "\t});\n",
       "    };\n",
       "    if(window['Nyaplot']==undefined){\n",
       "        window.addEventListener('load_nyaplot', render, false);\n",
       "\treturn;\n",
       "    } else {\n",
       "       render();\n",
       "    }\n",
       "})();\n",
       "</script>\n"
      ],
      "text/plain": [
       "#<Nyaplot::Frame:0x0000000444ed88 @properties={:panes=>[#<Nyaplot::Plot:0x00000004439ff0 @properties={:diagrams=>[#<Nyaplot::Diagram:0x00000004442600 @properties={:type=>:line, :options=>{:x=>:a, :y=>:b, :title=>\"I\", :color=>\"rgb(102,194,165)\"}, :data=>\"5499121e-ed4c-4b1f-a63a-1566b3588d84\"}, @xrange=[1, 3], @yrange=[2, 6]>, #<Nyaplot::Diagram:0x0000000444a9b8 @properties={:type=>:line, :options=>{:x=>:a, :y=>:b, :title=>\"II\", :color=>\"rgb(252,141,98)\"}, :data=>\"5582cf4e-afbe-4196-9ff1-9fb7bf3c605c\"}, @xrange=[4, 6], @yrange=[1, 5]>, #<Nyaplot::Diagram:0x0000000444ff08 @properties={:type=>:line, :options=>{:x=>:a, :y=>:b, :title=>\"III\", :color=>\"rgb(141,160,203)\"}, :data=>\"6a71189e-b73d-45c3-9ba0-829fd2dd2250\"}, @xrange=[7, 9], @yrange=[3, 6]>], :options=>{:legend=>true, :xrange=>[0, 10], :yrange=>[0, 8], :zoom=>true, :width=>800}}>], :data=>{\"5499121e-ed4c-4b1f-a63a-1566b3588d84\"=>#<Nyaplot::DataFrame:0x00000004442a10 @name=\"5499121e-ed4c-4b1f-a63a-1566b3588d84\", @rows=[{:a=>1, :b=>2}, {:a=>2, :b=>4}, {:a=>3, :b=>6}]>, \"5582cf4e-afbe-4196-9ff1-9fb7bf3c605c\"=>#<Nyaplot::DataFrame:0x0000000444adc8 @name=\"5582cf4e-afbe-4196-9ff1-9fb7bf3c605c\", @rows=[{:a=>4, :b=>1}, {:a=>5, :b=>3}, {:a=>6, :b=>5}]>, \"6a71189e-b73d-45c3-9ba0-829fd2dd2250\"=>#<Nyaplot::DataFrame:0x00000002ef8358 @name=\"6a71189e-b73d-45c3-9ba0-829fd2dd2250\", @rows=[{:a=>7, :b=>6}, {:a=>8, :b=>4}, {:a=>9, :b=>3}]>}, :extension=>[]}>"
      ]
     },
     "metadata": {},
     "output_type": "display_data"
    }
   ],
   "source": [
    "df.plot type: :line, x: :a, y: :b, categorized: {by: :c, method: :color} do |p, d1, d2, d3|\n",
    "  p.xrange [0, 10]\n",
    "  p.yrange [0, 8]\n",
    "end"
   ]
  },
  {
   "cell_type": "code",
   "execution_count": null,
   "metadata": {
    "collapsed": true
   },
   "outputs": [],
   "source": []
  }
 ],
 "metadata": {
  "kernelspec": {
   "display_name": "Ruby 2.3.0",
   "language": "ruby",
   "name": "ruby"
  },
  "language_info": {
   "file_extension": ".rb",
   "mimetype": "application/x-ruby",
   "name": "ruby",
   "version": "2.3.0"
  }
 },
 "nbformat": 4,
 "nbformat_minor": 0
}
