{
 "cells": [
  {
   "cell_type": "markdown",
   "metadata": {},
   "source": [
    "This notebook is based on notebook [here](https://www.google.com/url?q=https%3A%2F%2Fnbviewer.jupyter.org%2Fgithub%2Fagisga%2Fsciruby-notebooks%2Fblob%2Fmaster%2FData%2520Analysis%2FLogistic%2520regression%2520with%2520categorical%2520data.ipynb&sa=D&sntz=1&usg=AFQjCNE7gDkrVcPcy6d4EeqtRixVhB017A) created by [Alexej](http://github.com/agisga)"
   ]
  },
  {
   "cell_type": "markdown",
   "metadata": {},
   "source": [
    "# Logistic regression with categorical data\n",
    "\n",
    "We aim to fit a logistic regression model to the [shelter animal data](https://www.kaggle.com/c/shelter-animal-outcomes) from [kaggle](https://www.kaggle.com/competitions) using the Ruby gems `daru` and `statsample-glm`.\n",
    "\n"
   ]
  },
  {
   "cell_type": "code",
   "execution_count": 1,
   "metadata": {
    "collapsed": false,
    "scrolled": true
   },
   "outputs": [
    {
     "data": {
      "application/javascript": [
       "if(window['d3'] === undefined ||\n",
       "   window['Nyaplot'] === undefined){\n",
       "    var path = {\"d3\":\"https://cdnjs.cloudflare.com/ajax/libs/d3/3.5.5/d3.min\",\"downloadable\":\"https://cdn.rawgit.com/domitry/d3-downloadable/master/d3-downloadable\"};\n",
       "\n",
       "\n",
       "\n",
       "    var shim = {\"d3\":{\"exports\":\"d3\"},\"downloadable\":{\"exports\":\"downloadable\"}};\n",
       "\n",
       "    require.config({paths: path, shim:shim});\n",
       "\n",
       "\n",
       "require(['d3'], function(d3){window['d3']=d3;console.log('finished loading d3');require(['downloadable'], function(downloadable){window['downloadable']=downloadable;console.log('finished loading downloadable');\n",
       "\n",
       "\tvar script = d3.select(\"head\")\n",
       "\t    .append(\"script\")\n",
       "\t    .attr(\"src\", \"https://cdn.rawgit.com/domitry/Nyaplotjs/master/release/nyaplot.js\")\n",
       "\t    .attr(\"async\", true);\n",
       "\n",
       "\tscript[0][0].onload = script[0][0].onreadystatechange = function(){\n",
       "\n",
       "\n",
       "\t    var event = document.createEvent(\"HTMLEvents\");\n",
       "\t    event.initEvent(\"load_nyaplot\",false,false);\n",
       "\t    window.dispatchEvent(event);\n",
       "\t    console.log('Finished loading Nyaplotjs');\n",
       "\n",
       "\t};\n",
       "\n",
       "\n",
       "});});\n",
       "}\n"
      ],
      "text/plain": [
       "\"if(window['d3'] === undefined ||\\n   window['Nyaplot'] === undefined){\\n    var path = {\\\"d3\\\":\\\"https://cdnjs.cloudflare.com/ajax/libs/d3/3.5.5/d3.min\\\",\\\"downloadable\\\":\\\"https://cdn.rawgit.com/domitry/d3-downloadable/master/d3-downloadable\\\"};\\n\\n\\n\\n    var shim = {\\\"d3\\\":{\\\"exports\\\":\\\"d3\\\"},\\\"downloadable\\\":{\\\"exports\\\":\\\"downloadable\\\"}};\\n\\n    require.config({paths: path, shim:shim});\\n\\n\\nrequire(['d3'], function(d3){window['d3']=d3;console.log('finished loading d3');require(['downloadable'], function(downloadable){window['downloadable']=downloadable;console.log('finished loading downloadable');\\n\\n\\tvar script = d3.select(\\\"head\\\")\\n\\t    .append(\\\"script\\\")\\n\\t    .attr(\\\"src\\\", \\\"https://cdn.rawgit.com/domitry/Nyaplotjs/master/release/nyaplot.js\\\")\\n\\t    .attr(\\\"async\\\", true);\\n\\n\\tscript[0][0].onload = script[0][0].onreadystatechange = function(){\\n\\n\\n\\t    var event = document.createEvent(\\\"HTMLEvents\\\");\\n\\t    event.initEvent(\\\"load_nyaplot\\\",false,false);\\n\\t    window.dispatchEvent(event);\\n\\t    console.log('Finished loading Nyaplotjs');\\n\\n\\t};\\n\\n\\n});});\\n}\\n\""
      ]
     },
     "metadata": {},
     "output_type": "display_data"
    },
    {
     "data": {
      "text/html": [
       "<table>\n",
       "  <tr>\n",
       "    <th colspan='11'>Daru::DataFrame(3x10)</th>\n",
       "  </tr>\n",
       "\n",
       "  \n",
       "    <tr>\n",
       "      <th></th>\n",
       "      \n",
       "        <th>AnimalID</th>\n",
       "      \n",
       "        <th>Name</th>\n",
       "      \n",
       "        <th>DateTime</th>\n",
       "      \n",
       "        <th>OutcomeType</th>\n",
       "      \n",
       "        <th>OutcomeSubtype</th>\n",
       "      \n",
       "        <th>AnimalType</th>\n",
       "      \n",
       "        <th>SexuponOutcome</th>\n",
       "      \n",
       "        <th>Breed</th>\n",
       "      \n",
       "        <th>Color</th>\n",
       "      \n",
       "        <th>AgeuponOutcome(Weeks)</th>\n",
       "      \n",
       "    </tr>\n",
       "  \n",
       "\n",
       "  \n",
       "    <tr>\n",
       "      <td>0</td>\n",
       "      \n",
       "        <td>A671945</td>\n",
       "      \n",
       "        <td>Hambone</td>\n",
       "      \n",
       "        <td>2014-02-12 18:22:00</td>\n",
       "      \n",
       "        <td>Return_to_owner</td>\n",
       "      \n",
       "        <td></td>\n",
       "      \n",
       "        <td>Dog</td>\n",
       "      \n",
       "        <td>Neutered Male</td>\n",
       "      \n",
       "        <td>Shetland Sheepdog Mix</td>\n",
       "      \n",
       "        <td>Brown/White</td>\n",
       "      \n",
       "        <td>52.0</td>\n",
       "      \n",
       "    </tr>\n",
       "  \n",
       "    <tr>\n",
       "      <td>1</td>\n",
       "      \n",
       "        <td>A656520</td>\n",
       "      \n",
       "        <td>Emily</td>\n",
       "      \n",
       "        <td>2013-10-13 12:44:00</td>\n",
       "      \n",
       "        <td>Euthanasia</td>\n",
       "      \n",
       "        <td>Suffering</td>\n",
       "      \n",
       "        <td>Cat</td>\n",
       "      \n",
       "        <td>Spayed Female</td>\n",
       "      \n",
       "        <td>Domestic Shorthair Mix</td>\n",
       "      \n",
       "        <td>Cream Tabby</td>\n",
       "      \n",
       "        <td>52.0</td>\n",
       "      \n",
       "    </tr>\n",
       "  \n",
       "    <tr>\n",
       "      <td>2</td>\n",
       "      \n",
       "        <td>A686464</td>\n",
       "      \n",
       "        <td>Pearce</td>\n",
       "      \n",
       "        <td>2015-01-31 12:28:00</td>\n",
       "      \n",
       "        <td>Adoption</td>\n",
       "      \n",
       "        <td>Foster</td>\n",
       "      \n",
       "        <td>Dog</td>\n",
       "      \n",
       "        <td>Neutered Male</td>\n",
       "      \n",
       "        <td>Pit Bull Mix</td>\n",
       "      \n",
       "        <td>Blue/White</td>\n",
       "      \n",
       "        <td>104.0</td>\n",
       "      \n",
       "    </tr>\n",
       "  \n",
       "\n",
       "  \n",
       "</table>"
      ],
      "text/plain": [
       "#<Daru::DataFrame(3x10)>\n",
       "              AnimalID       Name   DateTime OutcomeTyp OutcomeSub AnimalType SexuponOut      Breed      Color AgeuponOut\n",
       "          0    A671945    Hambone 2014-02-12 Return_to_        nil        Dog Neutered M Shetland S Brown/Whit       52.0\n",
       "          1    A656520      Emily 2013-10-13 Euthanasia  Suffering        Cat Spayed Fem Domestic S Cream Tabb       52.0\n",
       "          2    A686464     Pearce 2015-01-31   Adoption     Foster        Dog Neutered M Pit Bull M Blue/White      104.0"
      ]
     },
     "execution_count": 1,
     "metadata": {},
     "output_type": "execute_result"
    }
   ],
   "source": [
    "require 'daru'\n",
    "shelter_data = Daru::DataFrame.from_csv 'data/animal_shelter_train.csv'\n",
    "shelter_data.head(3)"
   ]
  },
  {
   "cell_type": "code",
   "execution_count": 2,
   "metadata": {
    "collapsed": false
   },
   "outputs": [],
   "source": [
    "shelter_data.to_category 'OutcomeType', 'OutcomeSubtype', 'AnimalType', 'SexuponOutcome', 'Breed', 'Color'\n",
    "nil"
   ]
  },
  {
   "cell_type": "markdown",
   "metadata": {},
   "source": [
    "We create a 0-1-valued indicator for whether the animal got adopted."
   ]
  },
  {
   "cell_type": "code",
   "execution_count": 3,
   "metadata": {
    "collapsed": false
   },
   "outputs": [
    {
     "data": {
      "text/html": [
       "<table>\n",
       "  <tr>\n",
       "    <th colspan='12'>Daru::DataFrame(3x11)</th>\n",
       "  </tr>\n",
       "\n",
       "  \n",
       "    <tr>\n",
       "      <th></th>\n",
       "      \n",
       "        <th>AnimalID</th>\n",
       "      \n",
       "        <th>Name</th>\n",
       "      \n",
       "        <th>DateTime</th>\n",
       "      \n",
       "        <th>OutcomeType</th>\n",
       "      \n",
       "        <th>OutcomeSubtype</th>\n",
       "      \n",
       "        <th>AnimalType</th>\n",
       "      \n",
       "        <th>SexuponOutcome</th>\n",
       "      \n",
       "        <th>Breed</th>\n",
       "      \n",
       "        <th>Color</th>\n",
       "      \n",
       "        <th>AgeuponOutcome(Weeks)</th>\n",
       "      \n",
       "        <th>OutcomeType_Adoption</th>\n",
       "      \n",
       "    </tr>\n",
       "  \n",
       "\n",
       "  \n",
       "    <tr>\n",
       "      <td>0</td>\n",
       "      \n",
       "        <td>A671945</td>\n",
       "      \n",
       "        <td>Hambone</td>\n",
       "      \n",
       "        <td>2014-02-12 18:22:00</td>\n",
       "      \n",
       "        <td>Return_to_owner</td>\n",
       "      \n",
       "        <td></td>\n",
       "      \n",
       "        <td>Dog</td>\n",
       "      \n",
       "        <td>Neutered Male</td>\n",
       "      \n",
       "        <td>Shetland Sheepdog Mix</td>\n",
       "      \n",
       "        <td>Brown/White</td>\n",
       "      \n",
       "        <td>52.0</td>\n",
       "      \n",
       "        <td>0</td>\n",
       "      \n",
       "    </tr>\n",
       "  \n",
       "    <tr>\n",
       "      <td>1</td>\n",
       "      \n",
       "        <td>A656520</td>\n",
       "      \n",
       "        <td>Emily</td>\n",
       "      \n",
       "        <td>2013-10-13 12:44:00</td>\n",
       "      \n",
       "        <td>Euthanasia</td>\n",
       "      \n",
       "        <td>Suffering</td>\n",
       "      \n",
       "        <td>Cat</td>\n",
       "      \n",
       "        <td>Spayed Female</td>\n",
       "      \n",
       "        <td>Domestic Shorthair Mix</td>\n",
       "      \n",
       "        <td>Cream Tabby</td>\n",
       "      \n",
       "        <td>52.0</td>\n",
       "      \n",
       "        <td>0</td>\n",
       "      \n",
       "    </tr>\n",
       "  \n",
       "    <tr>\n",
       "      <td>2</td>\n",
       "      \n",
       "        <td>A686464</td>\n",
       "      \n",
       "        <td>Pearce</td>\n",
       "      \n",
       "        <td>2015-01-31 12:28:00</td>\n",
       "      \n",
       "        <td>Adoption</td>\n",
       "      \n",
       "        <td>Foster</td>\n",
       "      \n",
       "        <td>Dog</td>\n",
       "      \n",
       "        <td>Neutered Male</td>\n",
       "      \n",
       "        <td>Pit Bull Mix</td>\n",
       "      \n",
       "        <td>Blue/White</td>\n",
       "      \n",
       "        <td>104.0</td>\n",
       "      \n",
       "        <td>1</td>\n",
       "      \n",
       "    </tr>\n",
       "  \n",
       "\n",
       "  \n",
       "</table>"
      ],
      "text/plain": [
       "#<Daru::DataFrame(3x11)>\n",
       "              AnimalID       Name   DateTime OutcomeTyp OutcomeSub AnimalType SexuponOut      Breed      Color AgeuponOut OutcomeTyp\n",
       "          0    A671945    Hambone 2014-02-12 Return_to_        nil        Dog Neutered M Shetland S Brown/Whit       52.0          0\n",
       "          1    A656520      Emily 2013-10-13 Euthanasia  Suffering        Cat Spayed Fem Domestic S Cream Tabb       52.0          0\n",
       "          2    A686464     Pearce 2015-01-31   Adoption     Foster        Dog Neutered M Pit Bull M Blue/White      104.0          1"
      ]
     },
     "execution_count": 3,
     "metadata": {},
     "output_type": "execute_result"
    }
   ],
   "source": [
    "shelter_data['OutcomeType_Adoption'] = (shelter_data['OutcomeType'].contrast_code)['OutcomeType_Adoption']\n",
    "shelter_data.head 3"
   ]
  },
  {
   "cell_type": "markdown",
   "metadata": {},
   "source": [
    "## Model fit\n",
    "\n",
    "Now, having put data in appropriate form, we can fit the logistic regression model with `statsample-glm`."
   ]
  },
  {
   "cell_type": "code",
   "execution_count": 4,
   "metadata": {
    "collapsed": false
   },
   "outputs": [
    {
     "data": {
      "text/plain": [
       "\"Trivial accuracy = 0.5900000000000001\""
      ]
     },
     "execution_count": 4,
     "metadata": {},
     "output_type": "execute_result"
    }
   ],
   "source": [
    "small = shelter_data.head 300\n",
    "small.head 3\n",
    "m = small['OutcomeType_Adoption'].mean\n",
    "\"Trivial accuracy = #{[m, 1-m].max}\""
   ]
  },
  {
   "cell_type": "code",
   "execution_count": 5,
   "metadata": {
    "collapsed": false
   },
   "outputs": [
    {
     "data": {
      "text/plain": [
       "{:AnimalType_Cat=>-0.798117952110872, :\"AgeuponOutcome(Weeks)\"=>-0.003617767489740798, :constant=>0.34728399162356716}"
      ]
     },
     "execution_count": 5,
     "metadata": {},
     "output_type": "execute_result"
    }
   ],
   "source": [
    "require 'statsample-glm'\n",
    "\n",
    "formula = 'OutcomeType_Adoption~AnimalType+AgeuponOutcome(Weeks)'\n",
    "# Getting NotRegularMatrix exception if including variables such as Breed and Color.\n",
    "# See (https://github.com/SciRuby/statsample-glm/issues/32)\n",
    "glm_adoption = Statsample::GLM.fit_model formula,\n",
    "  small, :logistic\n",
    "glm_adoption.coefficients :hash"
   ]
  },
  {
   "cell_type": "code",
   "execution_count": 6,
   "metadata": {
    "collapsed": false
   },
   "outputs": [
    {
     "data": {
      "text/html": [
       "<table>\n",
       "  <tr>\n",
       "    <th colspan='4'>Daru::DataFrame(5x3)</th>\n",
       "  </tr>\n",
       "\n",
       "  \n",
       "    <tr>\n",
       "      <th></th>\n",
       "      \n",
       "        <th>AnimalType_Cat</th>\n",
       "      \n",
       "        <th>AgeuponOutcome(Weeks)</th>\n",
       "      \n",
       "        <th>OutcomeType_Adoption</th>\n",
       "      \n",
       "    </tr>\n",
       "  \n",
       "\n",
       "  \n",
       "    <tr>\n",
       "      <td>0</td>\n",
       "      \n",
       "        <td>0</td>\n",
       "      \n",
       "        <td>52.0</td>\n",
       "      \n",
       "        <td>0</td>\n",
       "      \n",
       "    </tr>\n",
       "  \n",
       "    <tr>\n",
       "      <td>1</td>\n",
       "      \n",
       "        <td>1</td>\n",
       "      \n",
       "        <td>52.0</td>\n",
       "      \n",
       "        <td>0</td>\n",
       "      \n",
       "    </tr>\n",
       "  \n",
       "    <tr>\n",
       "      <td>2</td>\n",
       "      \n",
       "        <td>0</td>\n",
       "      \n",
       "        <td>104.0</td>\n",
       "      \n",
       "        <td>1</td>\n",
       "      \n",
       "    </tr>\n",
       "  \n",
       "    <tr>\n",
       "      <td>3</td>\n",
       "      \n",
       "        <td>1</td>\n",
       "      \n",
       "        <td>3.0</td>\n",
       "      \n",
       "        <td>0</td>\n",
       "      \n",
       "    </tr>\n",
       "  \n",
       "    <tr>\n",
       "      <td>4</td>\n",
       "      \n",
       "        <td>0</td>\n",
       "      \n",
       "        <td>104.0</td>\n",
       "      \n",
       "        <td>0</td>\n",
       "      \n",
       "    </tr>\n",
       "  \n",
       "\n",
       "  \n",
       "</table>"
      ],
      "text/plain": [
       "#<Daru::DataFrame(5x3)>\n",
       "            AnimalType AgeuponOut OutcomeTyp\n",
       "          0          0       52.0          0\n",
       "          1          1       52.0          0\n",
       "          2          0      104.0          1\n",
       "          3          1        3.0          0\n",
       "          4          0      104.0          0"
      ]
     },
     "execution_count": 6,
     "metadata": {},
     "output_type": "execute_result"
    }
   ],
   "source": [
    "x = Statsample::GLM::Regression.new formula, small, :logistic\n",
    "x.df_for_regression.head(5)"
   ]
  },
  {
   "cell_type": "code",
   "execution_count": 7,
   "metadata": {
    "collapsed": false
   },
   "outputs": [
    {
     "data": {
      "text/html": [
       "<table>\n",
       "  <tr>\n",
       "    <th colspan=\"2\">Daru::Vector(5)</th>\n",
       "  </tr>\n",
       "  \n",
       "\n",
       "  \n",
       "    <tr>\n",
       "      <td>0</td>\n",
       "      <td>1</td>\n",
       "    </tr>\n",
       "  \n",
       "    <tr>\n",
       "      <td>1</td>\n",
       "      <td>0</td>\n",
       "    </tr>\n",
       "  \n",
       "    <tr>\n",
       "      <td>2</td>\n",
       "      <td>0</td>\n",
       "    </tr>\n",
       "  \n",
       "    <tr>\n",
       "      <td>3</td>\n",
       "      <td>0</td>\n",
       "    </tr>\n",
       "  \n",
       "    <tr>\n",
       "      <td>4</td>\n",
       "      <td>0</td>\n",
       "    </tr>\n",
       "  \n",
       "\n",
       "  \n",
       "</table>"
      ],
      "text/plain": [
       "#<Daru::Vector(5)>\n",
       "   0   1\n",
       "   1   0\n",
       "   2   0\n",
       "   3   0\n",
       "   4   0"
      ]
     },
     "execution_count": 7,
     "metadata": {},
     "output_type": "execute_result"
    }
   ],
   "source": [
    "prediction = glm_adoption.predict x.df_for_regression[:'AnimalType_Cat', :'AgeuponOutcome(Weeks)']\n",
    "prediction.map! { |i| i < 0.5 ? 0 : 1 }\n",
    "prediction.head 5"
   ]
  },
  {
   "cell_type": "code",
   "execution_count": 8,
   "metadata": {
    "collapsed": false
   },
   "outputs": [
    {
     "data": {
      "text/plain": [
       "\"Our model accuracy: 0.6366666666666667\""
      ]
     },
     "execution_count": 8,
     "metadata": {},
     "output_type": "execute_result"
    }
   ],
   "source": [
    "real = x.df_for_regression['OutcomeType_Adoption']\n",
    "correct = real.zip(prediction).count { |a, b| a == b }\n",
    "total = real.size\n",
    "\"Our model accuracy: #{correct/total.to_f}\""
   ]
  },
  {
   "cell_type": "markdown",
   "metadata": {},
   "source": [
    "## Possible next steps\n",
    "\n",
    "1. Interpret the logistic regression coefficients.\n",
    "2. Fit logistic regression models with euthanasia, death, etc. as response variable.\n",
    "3. Predict adoption, euthanasia, death, etc. on test data.\n",
    "4. Submit prediction results to kaggle, and fail against random forrest models."
   ]
  },
  {
   "cell_type": "code",
   "execution_count": null,
   "metadata": {
    "collapsed": true
   },
   "outputs": [],
   "source": []
  },
  {
   "cell_type": "code",
   "execution_count": null,
   "metadata": {
    "collapsed": true
   },
   "outputs": [],
   "source": []
  }
 ],
 "metadata": {
  "kernelspec": {
   "display_name": "Ruby 2.3.0",
   "language": "ruby",
   "name": "ruby"
  },
  "language_info": {
   "file_extension": ".rb",
   "mimetype": "application/x-ruby",
   "name": "ruby",
   "version": "2.3.0"
  }
 },
 "nbformat": 4,
 "nbformat_minor": 0
}
