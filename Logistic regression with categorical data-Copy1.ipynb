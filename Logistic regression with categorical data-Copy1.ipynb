{
 "cells": [
  {
   "cell_type": "markdown",
   "metadata": {},
   "source": [
    "This notebook is based on notebook [here](https://www.google.com/url?q=https%3A%2F%2Fnbviewer.jupyter.org%2Fgithub%2Fagisga%2Fsciruby-notebooks%2Fblob%2Fmaster%2FData%2520Analysis%2FLogistic%2520regression%2520with%2520categorical%2520data.ipynb&sa=D&sntz=1&usg=AFQjCNE7gDkrVcPcy6d4EeqtRixVhB017A) created by [Alexej](http://github.com/agisga)"
   ]
  },
  {
   "cell_type": "markdown",
   "metadata": {},
   "source": [
    "# Logistic regression with categorical data\n",
    "\n",
    "We aim to fit a logistic regression model to the [shelter animal data](https://www.kaggle.com/c/shelter-animal-outcomes) from [kaggle](https://www.kaggle.com/competitions) using the Ruby gems `daru` and `statsample-glm`.\n",
    "\n"
   ]
  },
  {
   "cell_type": "code",
   "execution_count": 1,
   "metadata": {
    "collapsed": false,
    "scrolled": true
   },
   "outputs": [
    {
     "data": {
      "application/javascript": [
       "if(window['d3'] === undefined ||\n",
       "   window['Nyaplot'] === undefined){\n",
       "    var path = {\"d3\":\"https://cdnjs.cloudflare.com/ajax/libs/d3/3.5.5/d3.min\",\"downloadable\":\"https://cdn.rawgit.com/domitry/d3-downloadable/master/d3-downloadable\"};\n",
       "\n",
       "\n",
       "\n",
       "    var shim = {\"d3\":{\"exports\":\"d3\"},\"downloadable\":{\"exports\":\"downloadable\"}};\n",
       "\n",
       "    require.config({paths: path, shim:shim});\n",
       "\n",
       "\n",
       "require(['d3'], function(d3){window['d3']=d3;console.log('finished loading d3');require(['downloadable'], function(downloadable){window['downloadable']=downloadable;console.log('finished loading downloadable');\n",
       "\n",
       "\tvar script = d3.select(\"head\")\n",
       "\t    .append(\"script\")\n",
       "\t    .attr(\"src\", \"https://cdn.rawgit.com/domitry/Nyaplotjs/master/release/nyaplot.js\")\n",
       "\t    .attr(\"async\", true);\n",
       "\n",
       "\tscript[0][0].onload = script[0][0].onreadystatechange = function(){\n",
       "\n",
       "\n",
       "\t    var event = document.createEvent(\"HTMLEvents\");\n",
       "\t    event.initEvent(\"load_nyaplot\",false,false);\n",
       "\t    window.dispatchEvent(event);\n",
       "\t    console.log('Finished loading Nyaplotjs');\n",
       "\n",
       "\t};\n",
       "\n",
       "\n",
       "});});\n",
       "}\n"
      ],
      "text/plain": [
       "\"if(window['d3'] === undefined ||\\n   window['Nyaplot'] === undefined){\\n    var path = {\\\"d3\\\":\\\"https://cdnjs.cloudflare.com/ajax/libs/d3/3.5.5/d3.min\\\",\\\"downloadable\\\":\\\"https://cdn.rawgit.com/domitry/d3-downloadable/master/d3-downloadable\\\"};\\n\\n\\n\\n    var shim = {\\\"d3\\\":{\\\"exports\\\":\\\"d3\\\"},\\\"downloadable\\\":{\\\"exports\\\":\\\"downloadable\\\"}};\\n\\n    require.config({paths: path, shim:shim});\\n\\n\\nrequire(['d3'], function(d3){window['d3']=d3;console.log('finished loading d3');require(['downloadable'], function(downloadable){window['downloadable']=downloadable;console.log('finished loading downloadable');\\n\\n\\tvar script = d3.select(\\\"head\\\")\\n\\t    .append(\\\"script\\\")\\n\\t    .attr(\\\"src\\\", \\\"https://cdn.rawgit.com/domitry/Nyaplotjs/master/release/nyaplot.js\\\")\\n\\t    .attr(\\\"async\\\", true);\\n\\n\\tscript[0][0].onload = script[0][0].onreadystatechange = function(){\\n\\n\\n\\t    var event = document.createEvent(\\\"HTMLEvents\\\");\\n\\t    event.initEvent(\\\"load_nyaplot\\\",false,false);\\n\\t    window.dispatchEvent(event);\\n\\t    console.log('Finished loading Nyaplotjs');\\n\\n\\t};\\n\\n\\n});});\\n}\\n\""
      ]
     },
     "metadata": {},
     "output_type": "display_data"
    },
    {
     "data": {
      "text/html": [
       "<table>\n",
       "  <tr>\n",
       "    <th colspan='11'>Daru::DataFrame(3x10)</th>\n",
       "  </tr>\n",
       "\n",
       "  \n",
       "    <tr>\n",
       "      <th></th>\n",
       "      \n",
       "        <th>AnimalID</th>\n",
       "      \n",
       "        <th>Name</th>\n",
       "      \n",
       "        <th>DateTime</th>\n",
       "      \n",
       "        <th>OutcomeType</th>\n",
       "      \n",
       "        <th>OutcomeSubtype</th>\n",
       "      \n",
       "        <th>AnimalType</th>\n",
       "      \n",
       "        <th>SexuponOutcome</th>\n",
       "      \n",
       "        <th>Breed</th>\n",
       "      \n",
       "        <th>Color</th>\n",
       "      \n",
       "        <th>AgeuponOutcome(Weeks)</th>\n",
       "      \n",
       "    </tr>\n",
       "  \n",
       "\n",
       "  \n",
       "    <tr>\n",
       "      <td>0</td>\n",
       "      \n",
       "        <td>A671945</td>\n",
       "      \n",
       "        <td>Hambone</td>\n",
       "      \n",
       "        <td>2014-02-12 18:22:00</td>\n",
       "      \n",
       "        <td>Return_to_owner</td>\n",
       "      \n",
       "        <td></td>\n",
       "      \n",
       "        <td>Dog</td>\n",
       "      \n",
       "        <td>Neutered Male</td>\n",
       "      \n",
       "        <td>Shetland Sheepdog Mix</td>\n",
       "      \n",
       "        <td>Brown/White</td>\n",
       "      \n",
       "        <td>52.0</td>\n",
       "      \n",
       "    </tr>\n",
       "  \n",
       "    <tr>\n",
       "      <td>1</td>\n",
       "      \n",
       "        <td>A656520</td>\n",
       "      \n",
       "        <td>Emily</td>\n",
       "      \n",
       "        <td>2013-10-13 12:44:00</td>\n",
       "      \n",
       "        <td>Euthanasia</td>\n",
       "      \n",
       "        <td>Suffering</td>\n",
       "      \n",
       "        <td>Cat</td>\n",
       "      \n",
       "        <td>Spayed Female</td>\n",
       "      \n",
       "        <td>Domestic Shorthair Mix</td>\n",
       "      \n",
       "        <td>Cream Tabby</td>\n",
       "      \n",
       "        <td>52.0</td>\n",
       "      \n",
       "    </tr>\n",
       "  \n",
       "    <tr>\n",
       "      <td>2</td>\n",
       "      \n",
       "        <td>A686464</td>\n",
       "      \n",
       "        <td>Pearce</td>\n",
       "      \n",
       "        <td>2015-01-31 12:28:00</td>\n",
       "      \n",
       "        <td>Adoption</td>\n",
       "      \n",
       "        <td>Foster</td>\n",
       "      \n",
       "        <td>Dog</td>\n",
       "      \n",
       "        <td>Neutered Male</td>\n",
       "      \n",
       "        <td>Pit Bull Mix</td>\n",
       "      \n",
       "        <td>Blue/White</td>\n",
       "      \n",
       "        <td>104.0</td>\n",
       "      \n",
       "    </tr>\n",
       "  \n",
       "\n",
       "  \n",
       "</table>"
      ],
      "text/plain": [
       "#<Daru::DataFrame(3x10)>\n",
       "              AnimalID       Name   DateTime OutcomeTyp OutcomeSub AnimalType SexuponOut      Breed      Color AgeuponOut\n",
       "          0    A671945    Hambone 2014-02-12 Return_to_        nil        Dog Neutered M Shetland S Brown/Whit       52.0\n",
       "          1    A656520      Emily 2013-10-13 Euthanasia  Suffering        Cat Spayed Fem Domestic S Cream Tabb       52.0\n",
       "          2    A686464     Pearce 2015-01-31   Adoption     Foster        Dog Neutered M Pit Bull M Blue/White      104.0"
      ]
     },
     "execution_count": 1,
     "metadata": {},
     "output_type": "execute_result"
    }
   ],
   "source": [
    "require 'daru'\n",
    "shelter_data = Daru::DataFrame.from_csv 'data/animal_shelter_train.csv'\n",
    "shelter_data.head(3)"
   ]
  },
  {
   "cell_type": "code",
   "execution_count": 2,
   "metadata": {
    "collapsed": false
   },
   "outputs": [],
   "source": [
    "shelter_data.to_category 'OutcomeType', 'OutcomeSubtype', 'AnimalType', 'SexuponOutcome', 'Breed', 'Color'\n",
    "nil"
   ]
  },
  {
   "cell_type": "markdown",
   "metadata": {},
   "source": [
    "We create a 0-1-valued indicator for whether the animal got adopted."
   ]
  },
  {
   "cell_type": "code",
   "execution_count": 3,
   "metadata": {
    "collapsed": false
   },
   "outputs": [
    {
     "data": {
      "text/html": [
       "<table>\n",
       "  <tr>\n",
       "    <th colspan='12'>Daru::DataFrame(3x11)</th>\n",
       "  </tr>\n",
       "\n",
       "  \n",
       "    <tr>\n",
       "      <th></th>\n",
       "      \n",
       "        <th>AnimalID</th>\n",
       "      \n",
       "        <th>Name</th>\n",
       "      \n",
       "        <th>DateTime</th>\n",
       "      \n",
       "        <th>OutcomeType</th>\n",
       "      \n",
       "        <th>OutcomeSubtype</th>\n",
       "      \n",
       "        <th>AnimalType</th>\n",
       "      \n",
       "        <th>SexuponOutcome</th>\n",
       "      \n",
       "        <th>Breed</th>\n",
       "      \n",
       "        <th>Color</th>\n",
       "      \n",
       "        <th>AgeuponOutcome(Weeks)</th>\n",
       "      \n",
       "        <th>OutcomeType_Adoption</th>\n",
       "      \n",
       "    </tr>\n",
       "  \n",
       "\n",
       "  \n",
       "    <tr>\n",
       "      <td>0</td>\n",
       "      \n",
       "        <td>A671945</td>\n",
       "      \n",
       "        <td>Hambone</td>\n",
       "      \n",
       "        <td>2014-02-12 18:22:00</td>\n",
       "      \n",
       "        <td>Return_to_owner</td>\n",
       "      \n",
       "        <td></td>\n",
       "      \n",
       "        <td>Dog</td>\n",
       "      \n",
       "        <td>Neutered Male</td>\n",
       "      \n",
       "        <td>Shetland Sheepdog Mix</td>\n",
       "      \n",
       "        <td>Brown/White</td>\n",
       "      \n",
       "        <td>52.0</td>\n",
       "      \n",
       "        <td>0</td>\n",
       "      \n",
       "    </tr>\n",
       "  \n",
       "    <tr>\n",
       "      <td>1</td>\n",
       "      \n",
       "        <td>A656520</td>\n",
       "      \n",
       "        <td>Emily</td>\n",
       "      \n",
       "        <td>2013-10-13 12:44:00</td>\n",
       "      \n",
       "        <td>Euthanasia</td>\n",
       "      \n",
       "        <td>Suffering</td>\n",
       "      \n",
       "        <td>Cat</td>\n",
       "      \n",
       "        <td>Spayed Female</td>\n",
       "      \n",
       "        <td>Domestic Shorthair Mix</td>\n",
       "      \n",
       "        <td>Cream Tabby</td>\n",
       "      \n",
       "        <td>52.0</td>\n",
       "      \n",
       "        <td>0</td>\n",
       "      \n",
       "    </tr>\n",
       "  \n",
       "    <tr>\n",
       "      <td>2</td>\n",
       "      \n",
       "        <td>A686464</td>\n",
       "      \n",
       "        <td>Pearce</td>\n",
       "      \n",
       "        <td>2015-01-31 12:28:00</td>\n",
       "      \n",
       "        <td>Adoption</td>\n",
       "      \n",
       "        <td>Foster</td>\n",
       "      \n",
       "        <td>Dog</td>\n",
       "      \n",
       "        <td>Neutered Male</td>\n",
       "      \n",
       "        <td>Pit Bull Mix</td>\n",
       "      \n",
       "        <td>Blue/White</td>\n",
       "      \n",
       "        <td>104.0</td>\n",
       "      \n",
       "        <td>1</td>\n",
       "      \n",
       "    </tr>\n",
       "  \n",
       "\n",
       "  \n",
       "</table>"
      ],
      "text/plain": [
       "#<Daru::DataFrame(3x11)>\n",
       "              AnimalID       Name   DateTime OutcomeTyp OutcomeSub AnimalType SexuponOut      Breed      Color AgeuponOut OutcomeTyp\n",
       "          0    A671945    Hambone 2014-02-12 Return_to_        nil        Dog Neutered M Shetland S Brown/Whit       52.0          0\n",
       "          1    A656520      Emily 2013-10-13 Euthanasia  Suffering        Cat Spayed Fem Domestic S Cream Tabb       52.0          0\n",
       "          2    A686464     Pearce 2015-01-31   Adoption     Foster        Dog Neutered M Pit Bull M Blue/White      104.0          1"
      ]
     },
     "execution_count": 3,
     "metadata": {},
     "output_type": "execute_result"
    }
   ],
   "source": [
    "shelter_data['OutcomeType_Adoption'] = (shelter_data['OutcomeType'].contrast_code)['OutcomeType_Adoption']\n",
    "shelter_data.head 3"
   ]
  },
  {
   "cell_type": "markdown",
   "metadata": {},
   "source": [
    "## Some data preprocessing"
   ]
  },
  {
   "cell_type": "markdown",
   "metadata": {},
   "source": [
    "### Grouping Breeds"
   ]
  },
  {
   "cell_type": "code",
   "execution_count": 4,
   "metadata": {
    "collapsed": false
   },
   "outputs": [
    {
     "data": {
      "text/html": [
       "<table>\n",
       "  <tr>\n",
       "    <th colspan='12'>Daru::DataFrame(5x11)</th>\n",
       "  </tr>\n",
       "\n",
       "  \n",
       "    <tr>\n",
       "      <th></th>\n",
       "      \n",
       "        <th>AnimalID</th>\n",
       "      \n",
       "        <th>Name</th>\n",
       "      \n",
       "        <th>DateTime</th>\n",
       "      \n",
       "        <th>OutcomeType</th>\n",
       "      \n",
       "        <th>OutcomeSubtype</th>\n",
       "      \n",
       "        <th>AnimalType</th>\n",
       "      \n",
       "        <th>SexuponOutcome</th>\n",
       "      \n",
       "        <th>Breed</th>\n",
       "      \n",
       "        <th>Color</th>\n",
       "      \n",
       "        <th>AgeuponOutcome(Weeks)</th>\n",
       "      \n",
       "        <th>OutcomeType_Adoption</th>\n",
       "      \n",
       "    </tr>\n",
       "  \n",
       "\n",
       "  \n",
       "    <tr>\n",
       "      <td>0</td>\n",
       "      \n",
       "        <td>A671945</td>\n",
       "      \n",
       "        <td>Hambone</td>\n",
       "      \n",
       "        <td>2014-02-12 18:22:00</td>\n",
       "      \n",
       "        <td>Return_to_owner</td>\n",
       "      \n",
       "        <td></td>\n",
       "      \n",
       "        <td>Dog</td>\n",
       "      \n",
       "        <td>Neutered Male</td>\n",
       "      \n",
       "        <td>Shetland Sheepdog Mix</td>\n",
       "      \n",
       "        <td>Brown/White</td>\n",
       "      \n",
       "        <td>52.0</td>\n",
       "      \n",
       "        <td>0</td>\n",
       "      \n",
       "    </tr>\n",
       "  \n",
       "    <tr>\n",
       "      <td>1</td>\n",
       "      \n",
       "        <td>A656520</td>\n",
       "      \n",
       "        <td>Emily</td>\n",
       "      \n",
       "        <td>2013-10-13 12:44:00</td>\n",
       "      \n",
       "        <td>Euthanasia</td>\n",
       "      \n",
       "        <td>Suffering</td>\n",
       "      \n",
       "        <td>Cat</td>\n",
       "      \n",
       "        <td>Spayed Female</td>\n",
       "      \n",
       "        <td>Domestic Shorthair Mix</td>\n",
       "      \n",
       "        <td>Cream Tabby</td>\n",
       "      \n",
       "        <td>52.0</td>\n",
       "      \n",
       "        <td>0</td>\n",
       "      \n",
       "    </tr>\n",
       "  \n",
       "    <tr>\n",
       "      <td>2</td>\n",
       "      \n",
       "        <td>A686464</td>\n",
       "      \n",
       "        <td>Pearce</td>\n",
       "      \n",
       "        <td>2015-01-31 12:28:00</td>\n",
       "      \n",
       "        <td>Adoption</td>\n",
       "      \n",
       "        <td>Foster</td>\n",
       "      \n",
       "        <td>Dog</td>\n",
       "      \n",
       "        <td>Neutered Male</td>\n",
       "      \n",
       "        <td>Pit Bull Mix</td>\n",
       "      \n",
       "        <td>Blue/White</td>\n",
       "      \n",
       "        <td>104.0</td>\n",
       "      \n",
       "        <td>1</td>\n",
       "      \n",
       "    </tr>\n",
       "  \n",
       "    <tr>\n",
       "      <td>3</td>\n",
       "      \n",
       "        <td>A683430</td>\n",
       "      \n",
       "        <td></td>\n",
       "      \n",
       "        <td>2014-07-11 19:09:00</td>\n",
       "      \n",
       "        <td>Transfer</td>\n",
       "      \n",
       "        <td>Partner</td>\n",
       "      \n",
       "        <td>Cat</td>\n",
       "      \n",
       "        <td>Intact Male</td>\n",
       "      \n",
       "        <td>Domestic Shorthair Mix</td>\n",
       "      \n",
       "        <td>Blue Cream</td>\n",
       "      \n",
       "        <td>3.0</td>\n",
       "      \n",
       "        <td>0</td>\n",
       "      \n",
       "    </tr>\n",
       "  \n",
       "    <tr>\n",
       "      <td>4</td>\n",
       "      \n",
       "        <td>A667013</td>\n",
       "      \n",
       "        <td></td>\n",
       "      \n",
       "        <td>2013-11-15 12:52:00</td>\n",
       "      \n",
       "        <td>Transfer</td>\n",
       "      \n",
       "        <td>Partner</td>\n",
       "      \n",
       "        <td>Dog</td>\n",
       "      \n",
       "        <td>Neutered Male</td>\n",
       "      \n",
       "        <td>Lhasa Apso/Miniature Poodle</td>\n",
       "      \n",
       "        <td>Tan</td>\n",
       "      \n",
       "        <td>104.0</td>\n",
       "      \n",
       "        <td>0</td>\n",
       "      \n",
       "    </tr>\n",
       "  \n",
       "\n",
       "  \n",
       "</table>"
      ],
      "text/plain": [
       "#<Daru::DataFrame(5x11)>\n",
       "              AnimalID       Name   DateTime OutcomeTyp OutcomeSub AnimalType SexuponOut      Breed      Color AgeuponOut OutcomeTyp\n",
       "          0    A671945    Hambone 2014-02-12 Return_to_        nil        Dog Neutered M Shetland S Brown/Whit       52.0          0\n",
       "          1    A656520      Emily 2013-10-13 Euthanasia  Suffering        Cat Spayed Fem Domestic S Cream Tabb       52.0          0\n",
       "          2    A686464     Pearce 2015-01-31   Adoption     Foster        Dog Neutered M Pit Bull M Blue/White      104.0          1\n",
       "          3    A683430        nil 2014-07-11   Transfer    Partner        Cat Intact Mal Domestic S Blue Cream        3.0          0\n",
       "          4    A667013        nil 2013-11-15   Transfer    Partner        Dog Neutered M Lhasa Apso        Tan      104.0          0"
      ]
     },
     "execution_count": 4,
     "metadata": {},
     "output_type": "execute_result"
    }
   ],
   "source": [
    "small = shelter_data.head 300\n",
    "small.head 5"
   ]
  },
  {
   "cell_type": "code",
   "execution_count": 5,
   "metadata": {
    "collapsed": false
   },
   "outputs": [
    {
     "data": {
      "text/html": [
       "<table>\n",
       "  <tr>\n",
       "    <th colspan=\"2\">Daru::Vector(10)</th>\n",
       "  </tr>\n",
       "  \n",
       "    <tr>\n",
       "        <th> </th>\n",
       "        <th>Breed</th>\n",
       "    </tr>\n",
       "  \n",
       "\n",
       "  \n",
       "    <tr>\n",
       "      <td>Domestic Shorthair Mix</td>\n",
       "      <td>104</td>\n",
       "    </tr>\n",
       "  \n",
       "    <tr>\n",
       "      <td>Chihuahua Shorthair Mix</td>\n",
       "      <td>24</td>\n",
       "    </tr>\n",
       "  \n",
       "    <tr>\n",
       "      <td>Pit Bull Mix</td>\n",
       "      <td>18</td>\n",
       "    </tr>\n",
       "  \n",
       "    <tr>\n",
       "      <td>Labrador Retriever Mix</td>\n",
       "      <td>14</td>\n",
       "    </tr>\n",
       "  \n",
       "    <tr>\n",
       "      <td>Domestic Medium Hair Mix</td>\n",
       "      <td>7</td>\n",
       "    </tr>\n",
       "  \n",
       "    <tr>\n",
       "      <td>Domestic Longhair Mix</td>\n",
       "      <td>6</td>\n",
       "    </tr>\n",
       "  \n",
       "    <tr>\n",
       "      <td>German Shepherd Mix</td>\n",
       "      <td>6</td>\n",
       "    </tr>\n",
       "  \n",
       "    <tr>\n",
       "      <td>Dachshund Mix</td>\n",
       "      <td>5</td>\n",
       "    </tr>\n",
       "  \n",
       "    <tr>\n",
       "      <td>Siamese Mix</td>\n",
       "      <td>4</td>\n",
       "    </tr>\n",
       "  \n",
       "    <tr>\n",
       "      <td>Rat Terrier Mix</td>\n",
       "      <td>3</td>\n",
       "    </tr>\n",
       "  \n",
       "\n",
       "  \n",
       "</table>"
      ],
      "text/plain": [
       "#<Daru::Vector(10)>\n",
       "                                     Breed\n",
       " Domestic Shorthair M                  104\n",
       " Chihuahua Shorthair                    24\n",
       "         Pit Bull Mix                   18\n",
       " Labrador Retriever M                   14\n",
       " Domestic Medium Hair                    7\n",
       " Domestic Longhair Mi                    6\n",
       "  German Shepherd Mix                    6\n",
       "        Dachshund Mix                    5\n",
       "          Siamese Mix                    4\n",
       "      Rat Terrier Mix                    3"
      ]
     },
     "execution_count": 5,
     "metadata": {},
     "output_type": "execute_result"
    }
   ],
   "source": [
    "small['Breed'].frequencies.sort(ascending: false).head(10)"
   ]
  },
  {
   "cell_type": "code",
   "execution_count": 6,
   "metadata": {
    "collapsed": false
   },
   "outputs": [
    {
     "data": {
      "text/html": [
       "<table>\n",
       "  <tr>\n",
       "    <th colspan=\"2\">Daru::Vector(5)</th>\n",
       "  </tr>\n",
       "  \n",
       "    <tr>\n",
       "        <th> </th>\n",
       "        <th>Breed</th>\n",
       "    </tr>\n",
       "  \n",
       "\n",
       "  \n",
       "    <tr>\n",
       "      <td>Domestic Shorthair Mix</td>\n",
       "      <td>104</td>\n",
       "    </tr>\n",
       "  \n",
       "    <tr>\n",
       "      <td>Pit Bull Mix</td>\n",
       "      <td>18</td>\n",
       "    </tr>\n",
       "  \n",
       "    <tr>\n",
       "      <td>Chihuahua Shorthair Mix</td>\n",
       "      <td>24</td>\n",
       "    </tr>\n",
       "  \n",
       "    <tr>\n",
       "      <td>Labrador Retriever Mix</td>\n",
       "      <td>14</td>\n",
       "    </tr>\n",
       "  \n",
       "    <tr>\n",
       "      <td>other</td>\n",
       "      <td>140</td>\n",
       "    </tr>\n",
       "  \n",
       "\n",
       "  \n",
       "</table>"
      ],
      "text/plain": [
       "#<Daru::Vector(5)>\n",
       "                                     Breed\n",
       " Domestic Shorthair M                  104\n",
       "         Pit Bull Mix                   18\n",
       " Chihuahua Shorthair                    24\n",
       " Labrador Retriever M                   14\n",
       "                other                  140"
      ]
     },
     "execution_count": 6,
     "metadata": {},
     "output_type": "execute_result"
    }
   ],
   "source": [
    "other_cats = small['Breed'].categories.select { |i| small['Breed'].count(i) < 10 }\n",
    "other_cats_hash = other_cats.zip(['other']*other_cats.size).to_h\n",
    "small['Breed'].rename_categories other_cats_hash\n",
    "small['Breed'].frequencies"
   ]
  },
  {
   "cell_type": "code",
   "execution_count": 22,
   "metadata": {
    "collapsed": false
   },
   "outputs": [
    {
     "data": {
      "text/plain": [
       "\"other\""
      ]
     },
     "execution_count": 22,
     "metadata": {},
     "output_type": "execute_result"
    }
   ],
   "source": [
    "small['Breed'].base_category = 'other'"
   ]
  },
  {
   "cell_type": "markdown",
   "metadata": {},
   "source": [
    "### Grouping colors"
   ]
  },
  {
   "cell_type": "code",
   "execution_count": 47,
   "metadata": {
    "collapsed": false
   },
   "outputs": [
    {
     "name": "stdout",
     "output_type": "stream",
     "text": [
      "366\n"
     ]
    },
    {
     "data": {
      "text/html": [
       "<table>\n",
       "  <tr>\n",
       "    <th colspan=\"2\">Daru::Vector(10)</th>\n",
       "  </tr>\n",
       "  \n",
       "    <tr>\n",
       "        <th> </th>\n",
       "        <th>Color</th>\n",
       "    </tr>\n",
       "  \n",
       "\n",
       "  \n",
       "    <tr>\n",
       "      <td>Black/White</td>\n",
       "      <td>35</td>\n",
       "    </tr>\n",
       "  \n",
       "    <tr>\n",
       "      <td>Black</td>\n",
       "      <td>27</td>\n",
       "    </tr>\n",
       "  \n",
       "    <tr>\n",
       "      <td>Brown Tabby</td>\n",
       "      <td>18</td>\n",
       "    </tr>\n",
       "  \n",
       "    <tr>\n",
       "      <td>Brown/White</td>\n",
       "      <td>13</td>\n",
       "    </tr>\n",
       "  \n",
       "    <tr>\n",
       "      <td>Calico</td>\n",
       "      <td>12</td>\n",
       "    </tr>\n",
       "  \n",
       "    <tr>\n",
       "      <td>Tan/White</td>\n",
       "      <td>11</td>\n",
       "    </tr>\n",
       "  \n",
       "    <tr>\n",
       "      <td>White</td>\n",
       "      <td>10</td>\n",
       "    </tr>\n",
       "  \n",
       "    <tr>\n",
       "      <td>Brown Tabby/White</td>\n",
       "      <td>8</td>\n",
       "    </tr>\n",
       "  \n",
       "    <tr>\n",
       "      <td>White/Black</td>\n",
       "      <td>8</td>\n",
       "    </tr>\n",
       "  \n",
       "    <tr>\n",
       "      <td>Orange Tabby</td>\n",
       "      <td>8</td>\n",
       "    </tr>\n",
       "  \n",
       "\n",
       "  \n",
       "</table>"
      ],
      "text/plain": [
       "#<Daru::Vector(10)>\n",
       "                               Color\n",
       "       Black/White                35\n",
       "             Black                27\n",
       "       Brown Tabby                18\n",
       "       Brown/White                13\n",
       "            Calico                12\n",
       "         Tan/White                11\n",
       "             White                10\n",
       " Brown Tabby/White                 8\n",
       "       White/Black                 8\n",
       "      Orange Tabby                 8"
      ]
     },
     "execution_count": 47,
     "metadata": {},
     "output_type": "execute_result"
    }
   ],
   "source": [
    "p small['Color'].categories.size\n",
    "small['Color'].frequencies.sort(ascending: false).head 10"
   ]
  },
  {
   "cell_type": "code",
   "execution_count": 48,
   "metadata": {
    "collapsed": false
   },
   "outputs": [
    {
     "data": {
      "text/html": [
       "<table>\n",
       "  <tr>\n",
       "    <th colspan=\"2\">Daru::Vector(23)</th>\n",
       "  </tr>\n",
       "  \n",
       "    <tr>\n",
       "        <th> </th>\n",
       "        <th>Color</th>\n",
       "    </tr>\n",
       "  \n",
       "\n",
       "  \n",
       "    <tr>\n",
       "      <td>Brown/White</td>\n",
       "      <td>13</td>\n",
       "    </tr>\n",
       "  \n",
       "    <tr>\n",
       "      <td>Tan</td>\n",
       "      <td>6</td>\n",
       "    </tr>\n",
       "  \n",
       "    <tr>\n",
       "      <td>Black/Tan</td>\n",
       "      <td>5</td>\n",
       "    </tr>\n",
       "  \n",
       "    <tr>\n",
       "      <td>Blue Tabby</td>\n",
       "      <td>5</td>\n",
       "    </tr>\n",
       "  \n",
       "    <tr>\n",
       "      <td>Brown Tabby</td>\n",
       "      <td>18</td>\n",
       "    </tr>\n",
       "  \n",
       "    <tr>\n",
       "      <td>White</td>\n",
       "      <td>10</td>\n",
       "    </tr>\n",
       "  \n",
       "    <tr>\n",
       "      <td>Black</td>\n",
       "      <td>27</td>\n",
       "    </tr>\n",
       "  \n",
       "    <tr>\n",
       "      <td>Brown</td>\n",
       "      <td>8</td>\n",
       "    </tr>\n",
       "  \n",
       "    <tr>\n",
       "      <td>Orange Tabby/White</td>\n",
       "      <td>8</td>\n",
       "    </tr>\n",
       "  \n",
       "    <tr>\n",
       "      <td>Black/White</td>\n",
       "      <td>35</td>\n",
       "    </tr>\n",
       "  \n",
       "    <tr>\n",
       "      <td>Brown Brindle/White</td>\n",
       "      <td>7</td>\n",
       "    </tr>\n",
       "  \n",
       "    <tr>\n",
       "      <td>Black/Brown</td>\n",
       "      <td>6</td>\n",
       "    </tr>\n",
       "  \n",
       "    <tr>\n",
       "      <td>Orange Tabby</td>\n",
       "      <td>8</td>\n",
       "    </tr>\n",
       "  \n",
       "    <tr>\n",
       "      <td>Chocolate/White</td>\n",
       "      <td>6</td>\n",
       "    </tr>\n",
       "  \n",
       "    <tr>\n",
       "      <td>Calico</td>\n",
       "      <td>12</td>\n",
       "    </tr>\n",
       "  \n",
       "    <tr>\n",
       "      <td>Tricolor</td>\n",
       "      <td>7</td>\n",
       "    </tr>\n",
       "  \n",
       "    <tr>\n",
       "      <td>White/Black</td>\n",
       "      <td>8</td>\n",
       "    </tr>\n",
       "  \n",
       "    <tr>\n",
       "      <td>Tortie</td>\n",
       "      <td>5</td>\n",
       "    </tr>\n",
       "  \n",
       "    <tr>\n",
       "      <td>Tan/White</td>\n",
       "      <td>11</td>\n",
       "    </tr>\n",
       "  \n",
       "    <tr>\n",
       "      <td>Brown Tabby/White</td>\n",
       "      <td>8</td>\n",
       "    </tr>\n",
       "  \n",
       "    <tr>\n",
       "      <td>Red</td>\n",
       "      <td>5</td>\n",
       "    </tr>\n",
       "  \n",
       "    <tr>\n",
       "      <td>White/Brown</td>\n",
       "      <td>7</td>\n",
       "    </tr>\n",
       "  \n",
       "    <tr>\n",
       "      <td>other</td>\n",
       "      <td>75</td>\n",
       "    </tr>\n",
       "  \n",
       "\n",
       "  \n",
       "</table>"
      ],
      "text/plain": [
       "#<Daru::Vector(23)>\n",
       "                                   Color\n",
       "         Brown/White                  13\n",
       "                 Tan                   6\n",
       "           Black/Tan                   5\n",
       "          Blue Tabby                   5\n",
       "         Brown Tabby                  18\n",
       "               White                  10\n",
       "               Black                  27\n",
       "               Brown                   8\n",
       "  Orange Tabby/White                   8\n",
       "         Black/White                  35\n",
       " Brown Brindle/White                   7\n",
       "         Black/Brown                   6\n",
       "        Orange Tabby                   8\n",
       "     Chocolate/White                   6\n",
       "              Calico                  12\n",
       "                 ...                 ..."
      ]
     },
     "execution_count": 48,
     "metadata": {},
     "output_type": "execute_result"
    }
   ],
   "source": [
    "other_cats = small['Color'].categories.select { |i| small['Color'].count(i) < 5 }\n",
    "other_cats_hash = other_cats.zip(['other']*other_cats.size).to_h\n",
    "small['Color'].rename_categories other_cats_hash\n",
    "small['Color'].frequencies"
   ]
  },
  {
   "cell_type": "code",
   "execution_count": 49,
   "metadata": {
    "collapsed": false
   },
   "outputs": [
    {
     "data": {
      "text/plain": [
       "\"other\""
      ]
     },
     "execution_count": 49,
     "metadata": {},
     "output_type": "execute_result"
    }
   ],
   "source": [
    "small['Color'].base_category = 'other'"
   ]
  },
  {
   "cell_type": "markdown",
   "metadata": {},
   "source": [
    "### Looking at SexuponOutcome"
   ]
  },
  {
   "cell_type": "code",
   "execution_count": 68,
   "metadata": {
    "collapsed": false
   },
   "outputs": [
    {
     "data": {
      "text/html": [
       "<table>\n",
       "  <tr>\n",
       "    <th colspan=\"2\">Daru::Vector(6)</th>\n",
       "  </tr>\n",
       "  \n",
       "    <tr>\n",
       "        <th> </th>\n",
       "        <th>SexuponOutcome</th>\n",
       "    </tr>\n",
       "  \n",
       "\n",
       "  \n",
       "    <tr>\n",
       "      <td>Neutered Male</td>\n",
       "      <td>103</td>\n",
       "    </tr>\n",
       "  \n",
       "    <tr>\n",
       "      <td>Spayed Female</td>\n",
       "      <td>109</td>\n",
       "    </tr>\n",
       "  \n",
       "    <tr>\n",
       "      <td>Intact Male</td>\n",
       "      <td>38</td>\n",
       "    </tr>\n",
       "  \n",
       "    <tr>\n",
       "      <td>Intact Female</td>\n",
       "      <td>39</td>\n",
       "    </tr>\n",
       "  \n",
       "    <tr>\n",
       "      <td>Unknown</td>\n",
       "      <td>11</td>\n",
       "    </tr>\n",
       "  \n",
       "    <tr>\n",
       "      <td></td>\n",
       "      <td>0</td>\n",
       "    </tr>\n",
       "  \n",
       "\n",
       "  \n",
       "</table>"
      ],
      "text/plain": [
       "#<Daru::Vector(6)>\n",
       "                SexuponOutcome\n",
       "  Neutered Male            103\n",
       "  Spayed Female            109\n",
       "    Intact Male             38\n",
       "  Intact Female             39\n",
       "        Unknown             11\n",
       "                             0"
      ]
     },
     "execution_count": 68,
     "metadata": {},
     "output_type": "execute_result"
    }
   ],
   "source": [
    "small['SexuponOutcome'].frequencies"
   ]
  },
  {
   "cell_type": "markdown",
   "metadata": {},
   "source": [
    "The last row is weird. Don't know what's causing it. I have to make it go away for regression to work."
   ]
  },
  {
   "cell_type": "code",
   "execution_count": 72,
   "metadata": {
    "collapsed": false
   },
   "outputs": [
    {
     "name": "stdout",
     "output_type": "stream",
     "text": [
      "[\"Neutered Male\", \"Spayed Female\", \"Intact Male\", \"Intact Female\", \"Unknown\"]\n"
     ]
    },
    {
     "data": {
      "text/plain": [
       "[\"Neutered Male\", \"Spayed Female\", \"Intact Male\", \"Intact Female\", \"Unknown\"]"
      ]
     },
     "execution_count": 72,
     "metadata": {},
     "output_type": "execute_result"
    }
   ],
   "source": [
    "p small['SexuponOutcome'].categories\n",
    "small['SexuponOutcome'].rename_categories nil => 'Unknown'\n",
    "small['SexuponOutcome'].categories"
   ]
  },
  {
   "cell_type": "markdown",
   "metadata": {},
   "source": [
    "## Model fit\n",
    "\n",
    "Now, having put data in appropriate form, we can fit the logistic regression model with `statsample-glm`."
   ]
  },
  {
   "cell_type": "code",
   "execution_count": 73,
   "metadata": {
    "collapsed": false
   },
   "outputs": [
    {
     "data": {
      "text/plain": [
       "\"Trivial accuracy = 0.5900000000000001\""
      ]
     },
     "execution_count": 73,
     "metadata": {},
     "output_type": "execute_result"
    }
   ],
   "source": [
    "m = small['OutcomeType_Adoption'].mean\n",
    "\"Trivial accuracy = #{[m, 1-m].max}\""
   ]
  },
  {
   "cell_type": "code",
   "execution_count": 77,
   "metadata": {
    "collapsed": false
   },
   "outputs": [
    {
     "data": {
      "text/plain": [
       "{:AnimalType_Cat=>0.3624673663127273, :\"Breed_Domestic Shorthair Mix\"=>-0.6992046526007152, :\"Breed_Pit Bull Mix\"=>-0.3954385950167811, :\"Breed_Chihuahua Shorthair Mix\"=>0.05393951646090618, :\"Breed_Labrador Retriever Mix\"=>0.6709131718767928, :\"Color_Brown/White\"=>-0.06968015981503961, :Color_Tan=>0.19889260368775816, :\"Color_Black/Tan\"=>-101.5554199318437, :\"Color_Blue Tabby\"=>2.7883835881103223, :\"Color_Brown Tabby\"=>2.401241370703389, :Color_White=>-0.5617805845345925, :Color_Black=>1.7294452972681649, :Color_Brown=>-0.8317841360418532, :\"Color_Orange Tabby/White\"=>0.9140911618491794, :\"Color_Black/White\"=>0.6014367036618534, :\"Color_Brown Brindle/White\"=>-0.24353948921870514, :\"Color_Black/Brown\"=>-0.06531274323442397, :\"Color_Orange Tabby\"=>1.924761054499644, :\"Color_Chocolate/White\"=>0.3324662490477372, :Color_Calico=>-0.2892228353164901, :Color_Tricolor=>-1.2642186282997816, :\"Color_White/Black\"=>-2.365948424329803, :Color_Tortie=>0.795111541042055, :\"Color_Tan/White\"=>0.22920793850641785, :\"Color_Brown Tabby/White\"=>0.0037343831559574045, :Color_Red=>0.828348364330555, :\"Color_White/Brown\"=>1.0574788735088387, :\"SexuponOutcome_Spayed Female\"=>0.5773285105186334, :\"SexuponOutcome_Intact Male\"=>-5.631463728264326, :\"SexuponOutcome_Intact Female\"=>-4.127881664270785, :SexuponOutcome_Unknown=>-103.45893736433486, :\"AgeuponOutcome(Weeks)\"=>-0.007340709148426496, :constant=>0.9073510412203416}"
      ]
     },
     "execution_count": 77,
     "metadata": {},
     "output_type": "execute_result"
    }
   ],
   "source": [
    "require 'statsample-glm'\n",
    "\n",
    "formula = 'OutcomeType_Adoption~AnimalType+Breed+AgeuponOutcome(Weeks)+Color+SexuponOutcome'\n",
    "# formula = 'OutcomeType_Adoption~SexuponOutcome'\n",
    "# Getting NotRegularMatrix exception if including variables such as Breed and Color.\n",
    "# See (https://github.com/SciRuby/statsample-glm/issues/32)\n",
    "\n",
    "glm_adoption = Statsample::GLM::Regression.new formula,\n",
    "  small, :logistic\n",
    "glm_adoption.model.coefficients :hash"
   ]
  },
  {
   "cell_type": "code",
   "execution_count": 78,
   "metadata": {
    "collapsed": false
   },
   "outputs": [
    {
     "data": {
      "text/html": [
       "<table>\n",
       "  <tr>\n",
       "    <th colspan=\"2\">Daru::Vector(5)</th>\n",
       "  </tr>\n",
       "  \n",
       "\n",
       "  \n",
       "    <tr>\n",
       "      <td>0</td>\n",
       "      <td>1</td>\n",
       "    </tr>\n",
       "  \n",
       "    <tr>\n",
       "      <td>1</td>\n",
       "      <td>1</td>\n",
       "    </tr>\n",
       "  \n",
       "    <tr>\n",
       "      <td>2</td>\n",
       "      <td>0</td>\n",
       "    </tr>\n",
       "  \n",
       "    <tr>\n",
       "      <td>3</td>\n",
       "      <td>0</td>\n",
       "    </tr>\n",
       "  \n",
       "    <tr>\n",
       "      <td>4</td>\n",
       "      <td>1</td>\n",
       "    </tr>\n",
       "  \n",
       "\n",
       "  \n",
       "</table>"
      ],
      "text/plain": [
       "#<Daru::Vector(5)>\n",
       "   0   1\n",
       "   1   1\n",
       "   2   0\n",
       "   3   0\n",
       "   4   1"
      ]
     },
     "execution_count": 78,
     "metadata": {},
     "output_type": "execute_result"
    }
   ],
   "source": [
    "predict = glm_adoption.predict small\n",
    "predict.map! { |i| i < 0.5 ? 0 : 1 }\n",
    "predict.head 5"
   ]
  },
  {
   "cell_type": "code",
   "execution_count": 79,
   "metadata": {
    "collapsed": false
   },
   "outputs": [
    {
     "data": {
      "text/plain": [
       "\"Our model accuracy: 0.7933333333333333\""
      ]
     },
     "execution_count": 79,
     "metadata": {},
     "output_type": "execute_result"
    }
   ],
   "source": [
    "real = small['OutcomeType_Adoption']\n",
    "correct = real.zip(predict).count { |a, b| a == b }\n",
    "total = real.size\n",
    "\"Our model accuracy: #{correct/total.to_f}\""
   ]
  },
  {
   "cell_type": "markdown",
   "metadata": {},
   "source": [
    "## Possible next steps\n",
    "\n",
    "1. Interpret the logistic regression coefficients.\n",
    "2. Fit logistic regression models with euthanasia, death, etc. as response variable.\n",
    "3. Predict adoption, euthanasia, death, etc. on test data.\n",
    "4. Submit prediction results to kaggle, and fail against random forrest models."
   ]
  },
  {
   "cell_type": "code",
   "execution_count": null,
   "metadata": {
    "collapsed": true
   },
   "outputs": [],
   "source": []
  },
  {
   "cell_type": "code",
   "execution_count": null,
   "metadata": {
    "collapsed": true
   },
   "outputs": [],
   "source": []
  }
 ],
 "metadata": {
  "kernelspec": {
   "display_name": "Ruby 2.3.0",
   "language": "ruby",
   "name": "ruby"
  },
  "language_info": {
   "file_extension": ".rb",
   "mimetype": "application/x-ruby",
   "name": "ruby",
   "version": "2.3.0"
  }
 },
 "nbformat": 4,
 "nbformat_minor": 0
}
