{
 "cells": [
  {
   "cell_type": "code",
   "execution_count": 9,
   "metadata": {
    "collapsed": false
   },
   "outputs": [
    {
     "data": {
      "text/html": [
       "<table>\n",
       "  <tr>\n",
       "    <th colspan='5'>Daru::DataFrame(5x4)</th>\n",
       "  </tr>\n",
       "\n",
       "  \n",
       "    <tr>\n",
       "      <th></th>\n",
       "      \n",
       "        <th>admit</th>\n",
       "      \n",
       "        <th>gpa</th>\n",
       "      \n",
       "        <th>gre</th>\n",
       "      \n",
       "        <th>rank</th>\n",
       "      \n",
       "    </tr>\n",
       "  \n",
       "\n",
       "  \n",
       "    <tr>\n",
       "      <td>0</td>\n",
       "      \n",
       "        <td>0</td>\n",
       "      \n",
       "        <td>380</td>\n",
       "      \n",
       "        <td>3.61</td>\n",
       "      \n",
       "        <td>3</td>\n",
       "      \n",
       "    </tr>\n",
       "  \n",
       "    <tr>\n",
       "      <td>1</td>\n",
       "      \n",
       "        <td>1</td>\n",
       "      \n",
       "        <td>660</td>\n",
       "      \n",
       "        <td>3.67</td>\n",
       "      \n",
       "        <td>3</td>\n",
       "      \n",
       "    </tr>\n",
       "  \n",
       "    <tr>\n",
       "      <td>2</td>\n",
       "      \n",
       "        <td>1</td>\n",
       "      \n",
       "        <td>800</td>\n",
       "      \n",
       "        <td>4</td>\n",
       "      \n",
       "        <td>1</td>\n",
       "      \n",
       "    </tr>\n",
       "  \n",
       "    <tr>\n",
       "      <td>3</td>\n",
       "      \n",
       "        <td>1</td>\n",
       "      \n",
       "        <td>640</td>\n",
       "      \n",
       "        <td>3.19</td>\n",
       "      \n",
       "        <td>4</td>\n",
       "      \n",
       "    </tr>\n",
       "  \n",
       "    <tr>\n",
       "      <td>4</td>\n",
       "      \n",
       "        <td>0</td>\n",
       "      \n",
       "        <td>520</td>\n",
       "      \n",
       "        <td>2.93</td>\n",
       "      \n",
       "        <td>4</td>\n",
       "      \n",
       "    </tr>\n",
       "  \n",
       "\n",
       "  \n",
       "</table>"
      ],
      "text/plain": [
       "#<Daru::DataFrame(5x4)>\n",
       "       admit   gpa   gre  rank\n",
       "     0     0   380  3.61     3\n",
       "     1     1   660  3.67     3\n",
       "     2     1   800     4     1\n",
       "     3     1   640  3.19     4\n",
       "     4     0   520  2.93     4"
      ]
     },
     "execution_count": 9,
     "metadata": {},
     "output_type": "execute_result"
    }
   ],
   "source": [
    "require 'statsample-glm'\n",
    "require 'open-uri'\n",
    "\n",
    "content = open('http://www.ats.ucla.edu/stat/data/binary.csv')\n",
    "File.write('binary.csv', content.read)\n",
    "\n",
    "df = Daru::DataFrame.from_csv \"binary.csv\"\n",
    "df.vectors = Daru::Index.new(['admit', 'gpa', 'gre', 'rank'])\n",
    "df.to_category 'rank'\n",
    "df.first 5"
   ]
  },
  {
   "cell_type": "code",
   "execution_count": 13,
   "metadata": {
    "collapsed": false
   },
   "outputs": [
    {
     "data": {
      "text/plain": [
       "{:rank_1=>1.3402039132410228, :rank_4=>-0.21125974461860883, :rank_2=>0.6647609856203268, :gpa=>0.002264425767848877, :gre=>0.8040375445991668, :constant=>-5.33018295935774}"
      ]
     },
     "execution_count": 13,
     "metadata": {},
     "output_type": "execute_result"
    }
   ],
   "source": [
    "formula = 'admit ~ gpa + gre + rank'\n",
    "glm = Statsample::GLM::Regression.new formula, df, :logistic, epsilon: 1e-2, constant: 1\n",
    "glm.model.coefficients :hash"
   ]
  },
  {
   "cell_type": "code",
   "execution_count": null,
   "metadata": {
    "collapsed": true
   },
   "outputs": [],
   "source": []
  }
 ],
 "metadata": {
  "kernelspec": {
   "display_name": "Ruby 2.3.0",
   "language": "ruby",
   "name": "ruby"
  },
  "language_info": {
   "file_extension": ".rb",
   "mimetype": "application/x-ruby",
   "name": "ruby",
   "version": "2.3.0"
  }
 },
 "nbformat": 4,
 "nbformat_minor": 0
}
