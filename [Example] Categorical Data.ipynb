{
 "cells": [
  {
   "cell_type": "markdown",
   "metadata": {},
   "source": [
    "This notebook describes how one can use categorical data. The applicability is limited now because regression is not yet supported with Categorical Data"
   ]
  },
  {
   "cell_type": "code",
   "execution_count": 1,
   "metadata": {
    "collapsed": false
   },
   "outputs": [
    {
     "data": {
      "application/javascript": [
       "if(window['d3'] === undefined ||\n",
       "   window['Nyaplot'] === undefined){\n",
       "    var path = {\"d3\":\"https://cdnjs.cloudflare.com/ajax/libs/d3/3.5.5/d3.min\",\"downloadable\":\"https://cdn.rawgit.com/domitry/d3-downloadable/master/d3-downloadable\"};\n",
       "\n",
       "\n",
       "\n",
       "    var shim = {\"d3\":{\"exports\":\"d3\"},\"downloadable\":{\"exports\":\"downloadable\"}};\n",
       "\n",
       "    require.config({paths: path, shim:shim});\n",
       "\n",
       "\n",
       "require(['d3'], function(d3){window['d3']=d3;console.log('finished loading d3');require(['downloadable'], function(downloadable){window['downloadable']=downloadable;console.log('finished loading downloadable');\n",
       "\n",
       "\tvar script = d3.select(\"head\")\n",
       "\t    .append(\"script\")\n",
       "\t    .attr(\"src\", \"https://cdn.rawgit.com/domitry/Nyaplotjs/master/release/nyaplot.js\")\n",
       "\t    .attr(\"async\", true);\n",
       "\n",
       "\tscript[0][0].onload = script[0][0].onreadystatechange = function(){\n",
       "\n",
       "\n",
       "\t    var event = document.createEvent(\"HTMLEvents\");\n",
       "\t    event.initEvent(\"load_nyaplot\",false,false);\n",
       "\t    window.dispatchEvent(event);\n",
       "\t    console.log('Finished loading Nyaplotjs');\n",
       "\n",
       "\t};\n",
       "\n",
       "\n",
       "});});\n",
       "}\n"
      ],
      "text/plain": [
       "\"if(window['d3'] === undefined ||\\n   window['Nyaplot'] === undefined){\\n    var path = {\\\"d3\\\":\\\"https://cdnjs.cloudflare.com/ajax/libs/d3/3.5.5/d3.min\\\",\\\"downloadable\\\":\\\"https://cdn.rawgit.com/domitry/d3-downloadable/master/d3-downloadable\\\"};\\n\\n\\n\\n    var shim = {\\\"d3\\\":{\\\"exports\\\":\\\"d3\\\"},\\\"downloadable\\\":{\\\"exports\\\":\\\"downloadable\\\"}};\\n\\n    require.config({paths: path, shim:shim});\\n\\n\\nrequire(['d3'], function(d3){window['d3']=d3;console.log('finished loading d3');require(['downloadable'], function(downloadable){window['downloadable']=downloadable;console.log('finished loading downloadable');\\n\\n\\tvar script = d3.select(\\\"head\\\")\\n\\t    .append(\\\"script\\\")\\n\\t    .attr(\\\"src\\\", \\\"https://cdn.rawgit.com/domitry/Nyaplotjs/master/release/nyaplot.js\\\")\\n\\t    .attr(\\\"async\\\", true);\\n\\n\\tscript[0][0].onload = script[0][0].onreadystatechange = function(){\\n\\n\\n\\t    var event = document.createEvent(\\\"HTMLEvents\\\");\\n\\t    event.initEvent(\\\"load_nyaplot\\\",false,false);\\n\\t    window.dispatchEvent(event);\\n\\t    console.log('Finished loading Nyaplotjs');\\n\\n\\t};\\n\\n\\n});});\\n}\\n\""
      ]
     },
     "metadata": {},
     "output_type": "display_data"
    },
    {
     "data": {
      "text/plain": [
       "true"
      ]
     },
     "execution_count": 1,
     "metadata": {},
     "output_type": "execute_result"
    }
   ],
   "source": [
    "require 'daru'"
   ]
  },
  {
   "cell_type": "markdown",
   "metadata": {},
   "source": [
    "This is [animal shelter data](https://www.kaggle.com/c/shelter-animal-outcomes) taken from [kaggle](https://www.kaggle.com/competitions) compeption.\n",
    "\n",
    "Its animals that are given up by their owner to a shelter. Lets gain some insight about this data."
   ]
  },
  {
   "cell_type": "code",
   "execution_count": 2,
   "metadata": {
    "collapsed": false
   },
   "outputs": [
    {
     "data": {
      "text/html": [
       "<table>\n",
       "  <tr>\n",
       "    <th colspan='11'>Daru::DataFrame(3x10)</th>\n",
       "  </tr>\n",
       "\n",
       "  \n",
       "    <tr>\n",
       "      <th></th>\n",
       "      \n",
       "        <th>AnimalID</th>\n",
       "      \n",
       "        <th>Name</th>\n",
       "      \n",
       "        <th>DateTime</th>\n",
       "      \n",
       "        <th>OutcomeType</th>\n",
       "      \n",
       "        <th>OutcomeSubtype</th>\n",
       "      \n",
       "        <th>AnimalType</th>\n",
       "      \n",
       "        <th>SexuponOutcome</th>\n",
       "      \n",
       "        <th>Breed</th>\n",
       "      \n",
       "        <th>Color</th>\n",
       "      \n",
       "        <th>AgeuponOutcome(Weeks)</th>\n",
       "      \n",
       "    </tr>\n",
       "  \n",
       "\n",
       "  \n",
       "    <tr>\n",
       "      <td>0</td>\n",
       "      \n",
       "        <td>A671945</td>\n",
       "      \n",
       "        <td>Hambone</td>\n",
       "      \n",
       "        <td>2014-02-12 18:22:00</td>\n",
       "      \n",
       "        <td>Return_to_owner</td>\n",
       "      \n",
       "        <td></td>\n",
       "      \n",
       "        <td>Dog</td>\n",
       "      \n",
       "        <td>Neutered Male</td>\n",
       "      \n",
       "        <td>Shetland Sheepdog Mix</td>\n",
       "      \n",
       "        <td>Brown/White</td>\n",
       "      \n",
       "        <td>52.0</td>\n",
       "      \n",
       "    </tr>\n",
       "  \n",
       "    <tr>\n",
       "      <td>1</td>\n",
       "      \n",
       "        <td>A656520</td>\n",
       "      \n",
       "        <td>Emily</td>\n",
       "      \n",
       "        <td>2013-10-13 12:44:00</td>\n",
       "      \n",
       "        <td>Euthanasia</td>\n",
       "      \n",
       "        <td>Suffering</td>\n",
       "      \n",
       "        <td>Cat</td>\n",
       "      \n",
       "        <td>Spayed Female</td>\n",
       "      \n",
       "        <td>Domestic Shorthair Mix</td>\n",
       "      \n",
       "        <td>Cream Tabby</td>\n",
       "      \n",
       "        <td>52.0</td>\n",
       "      \n",
       "    </tr>\n",
       "  \n",
       "    <tr>\n",
       "      <td>2</td>\n",
       "      \n",
       "        <td>A686464</td>\n",
       "      \n",
       "        <td>Pearce</td>\n",
       "      \n",
       "        <td>2015-01-31 12:28:00</td>\n",
       "      \n",
       "        <td>Adoption</td>\n",
       "      \n",
       "        <td>Foster</td>\n",
       "      \n",
       "        <td>Dog</td>\n",
       "      \n",
       "        <td>Neutered Male</td>\n",
       "      \n",
       "        <td>Pit Bull Mix</td>\n",
       "      \n",
       "        <td>Blue/White</td>\n",
       "      \n",
       "        <td>104.0</td>\n",
       "      \n",
       "    </tr>\n",
       "  \n",
       "\n",
       "  \n",
       "</table>"
      ],
      "text/plain": [
       "#<Daru::DataFrame(3x10)>\n",
       "              AnimalID       Name   DateTime OutcomeTyp OutcomeSub AnimalType SexuponOut      Breed      Color AgeuponOut\n",
       "          0    A671945    Hambone 2014-02-12 Return_to_        nil        Dog Neutered M Shetland S Brown/Whit       52.0\n",
       "          1    A656520      Emily 2013-10-13 Euthanasia  Suffering        Cat Spayed Fem Domestic S Cream Tabb       52.0\n",
       "          2    A686464     Pearce 2015-01-31   Adoption     Foster        Dog Neutered M Pit Bull M Blue/White      104.0"
      ]
     },
     "execution_count": 2,
     "metadata": {},
     "output_type": "execute_result"
    }
   ],
   "source": [
    "shelter_data = Daru::DataFrame.from_csv 'data/animal_shelter_train.csv'\n",
    "shelter_data.head(3)"
   ]
  },
  {
   "cell_type": "code",
   "execution_count": 3,
   "metadata": {
    "collapsed": false
   },
   "outputs": [
    {
     "data": {
      "text/plain": [
       "[26711, 10]"
      ]
     },
     "execution_count": 3,
     "metadata": {},
     "output_type": "execute_result"
    }
   ],
   "source": [
    "shelter_data.shape"
   ]
  },
  {
   "cell_type": "markdown",
   "metadata": {},
   "source": [
    "We are not interested in `DateTime`, `AnimalID` and `OutcomeSubtype` so we will delete them.\n",
    "\n",
    "Since `OutcomeType`, `AnimalType`, `SexuponOutcome`, `Breed` and `Color` are qualitative variable, we'll convert them to type category."
   ]
  },
  {
   "cell_type": "code",
   "execution_count": 4,
   "metadata": {
    "collapsed": false
   },
   "outputs": [
    {
     "data": {
      "text/plain": [
       "[\"OutcomeType\", \"AnimalType\", \"SexuponOutcome\", \"Breed\", \"Color\"]"
      ]
     },
     "execution_count": 4,
     "metadata": {},
     "output_type": "execute_result"
    }
   ],
   "source": [
    "shelter_data.delete_vectors 'DateTime', 'AnimalID', 'OutcomeSubtype'\n",
    "shelter_data.to_category 'OutcomeType', 'AnimalType', 'SexuponOutcome', 'Breed', 'Color'"
   ]
  },
  {
   "cell_type": "markdown",
   "metadata": {},
   "source": [
    "We'll categorize `AgeuponOutcome(Weeks)` to get quick summary of the ages (as we will see later)."
   ]
  },
  {
   "cell_type": "code",
   "execution_count": 5,
   "metadata": {
    "collapsed": false
   },
   "outputs": [],
   "source": [
    "shelter_data['AgeuponOutcome'] = shelter_data['AgeuponOutcome(Weeks)'].cut [0, 1, 4, 52, 260, 1500], labels: [:less_than_week, :less_than_month, :less_than_year, :one_to_five_years, :more_than__five_years]\n",
    "shelter_data.delete_vector 'AgeuponOutcome(Weeks)'\n",
    "nil"
   ]
  },
  {
   "cell_type": "markdown",
   "metadata": {},
   "source": [
    "Lets look at the categories we have formed."
   ]
  },
  {
   "cell_type": "code",
   "execution_count": 6,
   "metadata": {
    "collapsed": false
   },
   "outputs": [
    {
     "data": {
      "text/html": [
       "<table>\n",
       "  <tr>\n",
       "    <th colspan=\"2\">Daru::Vector(5)</th>\n",
       "  </tr>\n",
       "  \n",
       "\n",
       "  \n",
       "    <tr>\n",
       "      <td>one_to_five_years</td>\n",
       "      <td>10605</td>\n",
       "    </tr>\n",
       "  \n",
       "    <tr>\n",
       "      <td>less_than_year</td>\n",
       "      <td>9965</td>\n",
       "    </tr>\n",
       "  \n",
       "    <tr>\n",
       "      <td>more_than__five_years</td>\n",
       "      <td>4216</td>\n",
       "    </tr>\n",
       "  \n",
       "    <tr>\n",
       "      <td>less_than_month</td>\n",
       "      <td>1505</td>\n",
       "    </tr>\n",
       "  \n",
       "    <tr>\n",
       "      <td>less_than_week</td>\n",
       "      <td>420</td>\n",
       "    </tr>\n",
       "  \n",
       "\n",
       "  \n",
       "</table>"
      ],
      "text/plain": [
       "#<Daru::Vector(5)>\n",
       "    one_to_five_years                10605\n",
       "       less_than_year                 9965\n",
       " more_than__five_year                 4216\n",
       "      less_than_month                 1505\n",
       "       less_than_week                  420"
      ]
     },
     "execution_count": 6,
     "metadata": {},
     "output_type": "execute_result"
    }
   ],
   "source": [
    "shelter_data['AgeuponOutcome'].frequencies.sort ascending: false"
   ]
  },
  {
   "cell_type": "markdown",
   "metadata": {},
   "source": [
    "Say we are interested in looking at percentage of each animals we have having in the shelter."
   ]
  },
  {
   "cell_type": "code",
   "execution_count": 7,
   "metadata": {
    "collapsed": false
   },
   "outputs": [
    {
     "data": {
      "text/html": [
       "<table>\n",
       "  <tr>\n",
       "    <th colspan=\"2\">Daru::Vector(2)</th>\n",
       "  </tr>\n",
       "  \n",
       "    <tr>\n",
       "        <th> </th>\n",
       "        <th>AnimalType</th>\n",
       "    </tr>\n",
       "  \n",
       "\n",
       "  \n",
       "    <tr>\n",
       "      <td>Dog</td>\n",
       "      <td>58.38044251431994</td>\n",
       "    </tr>\n",
       "  \n",
       "    <tr>\n",
       "      <td>Cat</td>\n",
       "      <td>41.61955748568006</td>\n",
       "    </tr>\n",
       "  \n",
       "\n",
       "  \n",
       "</table>"
      ],
      "text/plain": [
       "#<Daru::Vector(2)>\n",
       "                          AnimalType\n",
       "               Dog 58.38044251431994\n",
       "               Cat 41.61955748568006"
      ]
     },
     "execution_count": 7,
     "metadata": {},
     "output_type": "execute_result"
    }
   ],
   "source": [
    "shelter_data['AnimalType'].frequencies :percentage"
   ]
  },
  {
   "cell_type": "markdown",
   "metadata": {},
   "source": [
    "This tells us that we have 58% of dogs and 41% of cats in out dataset. Lets explore further."
   ]
  },
  {
   "cell_type": "markdown",
   "metadata": {},
   "source": [
    "Lets look at what are the possible outcomes along with their frequencies."
   ]
  },
  {
   "cell_type": "code",
   "execution_count": 8,
   "metadata": {
    "collapsed": false
   },
   "outputs": [
    {
     "data": {
      "text/html": [
       "<table>\n",
       "  <tr>\n",
       "    <th colspan=\"2\">Daru::Vector(5)</th>\n",
       "  </tr>\n",
       "  \n",
       "    <tr>\n",
       "        <th> </th>\n",
       "        <th>OutcomeType</th>\n",
       "    </tr>\n",
       "  \n",
       "\n",
       "  \n",
       "    <tr>\n",
       "      <td>Return_to_owner</td>\n",
       "      <td>4786</td>\n",
       "    </tr>\n",
       "  \n",
       "    <tr>\n",
       "      <td>Euthanasia</td>\n",
       "      <td>1553</td>\n",
       "    </tr>\n",
       "  \n",
       "    <tr>\n",
       "      <td>Adoption</td>\n",
       "      <td>10769</td>\n",
       "    </tr>\n",
       "  \n",
       "    <tr>\n",
       "      <td>Transfer</td>\n",
       "      <td>9406</td>\n",
       "    </tr>\n",
       "  \n",
       "    <tr>\n",
       "      <td>Died</td>\n",
       "      <td>197</td>\n",
       "    </tr>\n",
       "  \n",
       "\n",
       "  \n",
       "</table>"
      ],
      "text/plain": [
       "#<Daru::Vector(5)>\n",
       "                     OutcomeType\n",
       " Return_to_owner            4786\n",
       "      Euthanasia            1553\n",
       "        Adoption           10769\n",
       "        Transfer            9406\n",
       "            Died             197"
      ]
     },
     "execution_count": 8,
     "metadata": {},
     "output_type": "execute_result"
    }
   ],
   "source": [
    "shelter_data['OutcomeType'].frequencies"
   ]
  },
  {
   "cell_type": "markdown",
   "metadata": {},
   "source": [
    "So, a large amount of these animals are adopted which is great."
   ]
  },
  {
   "cell_type": "markdown",
   "metadata": {},
   "source": [
    "Lets get some insight into animals who died."
   ]
  },
  {
   "cell_type": "code",
   "execution_count": 9,
   "metadata": {
    "collapsed": false
   },
   "outputs": [
    {
     "data": {
      "text/html": [
       "<table>\n",
       "  <tr>\n",
       "    <th colspan=\"2\">Daru::Vector(2)</th>\n",
       "  </tr>\n",
       "  \n",
       "    <tr>\n",
       "        <th> </th>\n",
       "        <th>AnimalType</th>\n",
       "    </tr>\n",
       "  \n",
       "\n",
       "  \n",
       "    <tr>\n",
       "      <td>Dog</td>\n",
       "      <td>25.380710659898476</td>\n",
       "    </tr>\n",
       "  \n",
       "    <tr>\n",
       "      <td>Cat</td>\n",
       "      <td>74.61928934010153</td>\n",
       "    </tr>\n",
       "  \n",
       "\n",
       "  \n",
       "</table>"
      ],
      "text/plain": [
       "#<Daru::Vector(2)>\n",
       "                            AnimalType\n",
       "                Dog 25.380710659898476\n",
       "                Cat  74.61928934010153"
      ]
     },
     "execution_count": 9,
     "metadata": {},
     "output_type": "execute_result"
    }
   ],
   "source": [
    "died = shelter_data.where shelter_data['OutcomeType'].eq('Died')\n",
    "died['AnimalType'].frequencies :percentage"
   ]
  },
  {
   "cell_type": "markdown",
   "metadata": {},
   "source": [
    "Hmm.. Cats are more prone to die than dogs. We can say this because cats to dog ratio is almost the same in the dataset."
   ]
  },
  {
   "cell_type": "markdown",
   "metadata": {},
   "source": [
    "Lets have some insight into ages of cats and dogs that died."
   ]
  },
  {
   "cell_type": "code",
   "execution_count": 10,
   "metadata": {
    "collapsed": false
   },
   "outputs": [
    {
     "data": {
      "text/html": [
       "<table>\n",
       "  <tr>\n",
       "    <th colspan=\"2\">Daru::Vector(5)</th>\n",
       "  </tr>\n",
       "  \n",
       "\n",
       "  \n",
       "    <tr>\n",
       "      <td>less_than_week</td>\n",
       "      <td>12.0</td>\n",
       "    </tr>\n",
       "  \n",
       "    <tr>\n",
       "      <td>less_than_month</td>\n",
       "      <td>4.0</td>\n",
       "    </tr>\n",
       "  \n",
       "    <tr>\n",
       "      <td>less_than_year</td>\n",
       "      <td>24.0</td>\n",
       "    </tr>\n",
       "  \n",
       "    <tr>\n",
       "      <td>one_to_five_years</td>\n",
       "      <td>40.0</td>\n",
       "    </tr>\n",
       "  \n",
       "    <tr>\n",
       "      <td>more_than__five_years</td>\n",
       "      <td>20.0</td>\n",
       "    </tr>\n",
       "  \n",
       "\n",
       "  \n",
       "</table>"
      ],
      "text/plain": [
       "#<Daru::Vector(5)>\n",
       "       less_than_week                 12.0\n",
       "      less_than_month                  4.0\n",
       "       less_than_year                 24.0\n",
       "    one_to_five_years                 40.0\n",
       " more_than__five_year                 20.0"
      ]
     },
     "execution_count": 10,
     "metadata": {},
     "output_type": "execute_result"
    }
   ],
   "source": [
    "died.where(died['AnimalType'].eq 'Dog')['AgeuponOutcome'].frequencies :percentage"
   ]
  },
  {
   "cell_type": "code",
   "execution_count": 11,
   "metadata": {
    "collapsed": false
   },
   "outputs": [
    {
     "data": {
      "text/html": [
       "<table>\n",
       "  <tr>\n",
       "    <th colspan=\"2\">Daru::Vector(5)</th>\n",
       "  </tr>\n",
       "  \n",
       "\n",
       "  \n",
       "    <tr>\n",
       "      <td>less_than_week</td>\n",
       "      <td>11.564625850340136</td>\n",
       "    </tr>\n",
       "  \n",
       "    <tr>\n",
       "      <td>less_than_month</td>\n",
       "      <td>12.244897959183673</td>\n",
       "    </tr>\n",
       "  \n",
       "    <tr>\n",
       "      <td>less_than_year</td>\n",
       "      <td>57.14285714285714</td>\n",
       "    </tr>\n",
       "  \n",
       "    <tr>\n",
       "      <td>one_to_five_years</td>\n",
       "      <td>12.244897959183673</td>\n",
       "    </tr>\n",
       "  \n",
       "    <tr>\n",
       "      <td>more_than__five_years</td>\n",
       "      <td>6.802721088435375</td>\n",
       "    </tr>\n",
       "  \n",
       "\n",
       "  \n",
       "</table>"
      ],
      "text/plain": [
       "#<Daru::Vector(5)>\n",
       "       less_than_week   11.564625850340136\n",
       "      less_than_month   12.244897959183673\n",
       "       less_than_year    57.14285714285714\n",
       "    one_to_five_years   12.244897959183673\n",
       " more_than__five_year    6.802721088435375"
      ]
     },
     "execution_count": 11,
     "metadata": {},
     "output_type": "execute_result"
    }
   ],
   "source": [
    "died.where(died['AnimalType'].eq 'Cat')['AgeuponOutcome'].frequencies :percentage"
   ]
  },
  {
   "cell_type": "markdown",
   "metadata": {},
   "source": [
    "Also younger cats are more prone to die."
   ]
  },
  {
   "cell_type": "markdown",
   "metadata": {},
   "source": [
    "Lets move our attention to animals which got adopted."
   ]
  },
  {
   "cell_type": "code",
   "execution_count": 12,
   "metadata": {
    "collapsed": false
   },
   "outputs": [
    {
     "data": {
      "text/html": [
       "<table>\n",
       "  <tr>\n",
       "    <th colspan=\"2\">Daru::Vector(2)</th>\n",
       "  </tr>\n",
       "  \n",
       "    <tr>\n",
       "        <th> </th>\n",
       "        <th>AnimalType</th>\n",
       "    </tr>\n",
       "  \n",
       "\n",
       "  \n",
       "    <tr>\n",
       "      <td>Dog</td>\n",
       "      <td>60.33057851239669</td>\n",
       "    </tr>\n",
       "  \n",
       "    <tr>\n",
       "      <td>Cat</td>\n",
       "      <td>39.66942148760331</td>\n",
       "    </tr>\n",
       "  \n",
       "\n",
       "  \n",
       "</table>"
      ],
      "text/plain": [
       "#<Daru::Vector(2)>\n",
       "                          AnimalType\n",
       "               Dog 60.33057851239669\n",
       "               Cat 39.66942148760331"
      ]
     },
     "execution_count": 12,
     "metadata": {},
     "output_type": "execute_result"
    }
   ],
   "source": [
    "adopted = shelter_data.where shelter_data['OutcomeType'].eq('Adoption')\n",
    "adopted['AnimalType'].frequencies :percentage"
   ]
  },
  {
   "cell_type": "markdown",
   "metadata": {},
   "source": [
    "Hmm... Dogs are more likely to be adopted, maybe that explains why so many cats die."
   ]
  },
  {
   "cell_type": "markdown",
   "metadata": {},
   "source": [
    "Lets now look at those animals which got adopted by their owner back."
   ]
  },
  {
   "cell_type": "code",
   "execution_count": 13,
   "metadata": {
    "collapsed": false
   },
   "outputs": [
    {
     "data": {
      "text/html": [
       "<table>\n",
       "  <tr>\n",
       "    <th colspan=\"2\">Daru::Vector(2)</th>\n",
       "  </tr>\n",
       "  \n",
       "    <tr>\n",
       "        <th> </th>\n",
       "        <th>AnimalType</th>\n",
       "    </tr>\n",
       "  \n",
       "\n",
       "  \n",
       "    <tr>\n",
       "      <td>Dog</td>\n",
       "      <td>89.55286251567071</td>\n",
       "    </tr>\n",
       "  \n",
       "    <tr>\n",
       "      <td>Cat</td>\n",
       "      <td>10.447137484329295</td>\n",
       "    </tr>\n",
       "  \n",
       "\n",
       "  \n",
       "</table>"
      ],
      "text/plain": [
       "#<Daru::Vector(2)>\n",
       "                            AnimalType\n",
       "                Dog  89.55286251567071\n",
       "                Cat 10.447137484329295"
      ]
     },
     "execution_count": 13,
     "metadata": {},
     "output_type": "execute_result"
    }
   ],
   "source": [
    "owner = shelter_data.where shelter_data['OutcomeType'].eq('Return_to_owner')\n",
    "owner['AnimalType'].frequencies :percentage"
   ]
  },
  {
   "cell_type": "markdown",
   "metadata": {},
   "source": [
    "Astonishingly 90% of dogs returns to their owner while only 10% of cats do."
   ]
  }
 ],
 "metadata": {
  "kernelspec": {
   "display_name": "Ruby 2.3.0",
   "language": "ruby",
   "name": "ruby"
  },
  "language_info": {
   "file_extension": ".rb",
   "mimetype": "application/x-ruby",
   "name": "ruby",
   "version": "2.3.0"
  }
 },
 "nbformat": 4,
 "nbformat_minor": 0
}
